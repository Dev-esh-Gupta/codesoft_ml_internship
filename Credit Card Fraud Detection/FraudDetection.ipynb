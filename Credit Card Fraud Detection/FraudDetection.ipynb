{
 "cells": [
  {
   "cell_type": "markdown",
   "id": "6c3e4f18-27f6-4173-ae8d-d1c0dc0b671c",
   "metadata": {},
   "source": [
    "# Credit Card Fraud Detection"
   ]
  },
  {
   "cell_type": "markdown",
   "id": "d9bbb927-8da4-4901-ad48-50d0326d6078",
   "metadata": {},
   "source": [
    "# Import Libraries"
   ]
  },
  {
   "cell_type": "code",
   "execution_count": 1,
   "id": "d2e1a1a7-2349-4fde-b7a6-53900973edeb",
   "metadata": {},
   "outputs": [],
   "source": [
    "import pandas as pd\n",
    "import numpy as np\n",
    "import seaborn as sns\n",
    "import matplotlib.pyplot as plt\n",
    "from sklearn.model_selection import train_test_split\n",
    "from sklearn.tree import DecisionTreeClassifier\n",
    "from sklearn.linear_model import LogisticRegression\n",
    "from sklearn.metrics import accuracy_score, classification_report, f1_score"
   ]
  },
  {
   "cell_type": "markdown",
   "id": "461bf4a7-5bb9-4b49-a386-f93007fe48db",
   "metadata": {},
   "source": [
    "# Load Data"
   ]
  },
  {
   "cell_type": "code",
   "execution_count": 2,
   "id": "541dc72a-be0f-4aa0-a05a-7c1138418f63",
   "metadata": {},
   "outputs": [],
   "source": [
    "def load_data(name):\n",
    "    df = pd.read_csv(f\"data/{name}\")\n",
    "    return df"
   ]
  },
  {
   "cell_type": "code",
   "execution_count": 3,
   "id": "931f5b8a-70fe-42a3-a64c-a906d4b69b64",
   "metadata": {},
   "outputs": [],
   "source": [
    "df = load_data(\"fraudTrain.csv\")"
   ]
  },
  {
   "cell_type": "markdown",
   "id": "1810b76d-a21d-4564-a2f0-a291224264a1",
   "metadata": {},
   "source": [
    "# Analyze"
   ]
  },
  {
   "cell_type": "code",
   "execution_count": 4,
   "id": "96bbb233-8a99-4dc0-90d1-1ea4a51aa3af",
   "metadata": {},
   "outputs": [
    {
     "data": {
      "text/plain": [
       "(1296675, 23)"
      ]
     },
     "execution_count": 4,
     "metadata": {},
     "output_type": "execute_result"
    }
   ],
   "source": [
    "df.shape"
   ]
  },
  {
   "cell_type": "code",
   "execution_count": 5,
   "id": "bbd767ed-25ad-48f3-a848-70a92c79740a",
   "metadata": {},
   "outputs": [
    {
     "data": {
      "text/html": [
       "<div>\n",
       "<style scoped>\n",
       "    .dataframe tbody tr th:only-of-type {\n",
       "        vertical-align: middle;\n",
       "    }\n",
       "\n",
       "    .dataframe tbody tr th {\n",
       "        vertical-align: top;\n",
       "    }\n",
       "\n",
       "    .dataframe thead th {\n",
       "        text-align: right;\n",
       "    }\n",
       "</style>\n",
       "<table border=\"1\" class=\"dataframe\">\n",
       "  <thead>\n",
       "    <tr style=\"text-align: right;\">\n",
       "      <th></th>\n",
       "      <th>Unnamed: 0</th>\n",
       "      <th>trans_date_trans_time</th>\n",
       "      <th>cc_num</th>\n",
       "      <th>merchant</th>\n",
       "      <th>category</th>\n",
       "      <th>amt</th>\n",
       "      <th>first</th>\n",
       "      <th>last</th>\n",
       "      <th>gender</th>\n",
       "      <th>street</th>\n",
       "      <th>...</th>\n",
       "      <th>lat</th>\n",
       "      <th>long</th>\n",
       "      <th>city_pop</th>\n",
       "      <th>job</th>\n",
       "      <th>dob</th>\n",
       "      <th>trans_num</th>\n",
       "      <th>unix_time</th>\n",
       "      <th>merch_lat</th>\n",
       "      <th>merch_long</th>\n",
       "      <th>is_fraud</th>\n",
       "    </tr>\n",
       "  </thead>\n",
       "  <tbody>\n",
       "    <tr>\n",
       "      <th>0</th>\n",
       "      <td>0</td>\n",
       "      <td>2019-01-01 00:00:18</td>\n",
       "      <td>2703186189652095</td>\n",
       "      <td>fraud_Rippin, Kub and Mann</td>\n",
       "      <td>misc_net</td>\n",
       "      <td>4.97</td>\n",
       "      <td>Jennifer</td>\n",
       "      <td>Banks</td>\n",
       "      <td>F</td>\n",
       "      <td>561 Perry Cove</td>\n",
       "      <td>...</td>\n",
       "      <td>36.0788</td>\n",
       "      <td>-81.1781</td>\n",
       "      <td>3495</td>\n",
       "      <td>Psychologist, counselling</td>\n",
       "      <td>1988-03-09</td>\n",
       "      <td>0b242abb623afc578575680df30655b9</td>\n",
       "      <td>1325376018</td>\n",
       "      <td>36.011293</td>\n",
       "      <td>-82.048315</td>\n",
       "      <td>0</td>\n",
       "    </tr>\n",
       "    <tr>\n",
       "      <th>1</th>\n",
       "      <td>1</td>\n",
       "      <td>2019-01-01 00:00:44</td>\n",
       "      <td>630423337322</td>\n",
       "      <td>fraud_Heller, Gutmann and Zieme</td>\n",
       "      <td>grocery_pos</td>\n",
       "      <td>107.23</td>\n",
       "      <td>Stephanie</td>\n",
       "      <td>Gill</td>\n",
       "      <td>F</td>\n",
       "      <td>43039 Riley Greens Suite 393</td>\n",
       "      <td>...</td>\n",
       "      <td>48.8878</td>\n",
       "      <td>-118.2105</td>\n",
       "      <td>149</td>\n",
       "      <td>Special educational needs teacher</td>\n",
       "      <td>1978-06-21</td>\n",
       "      <td>1f76529f8574734946361c461b024d99</td>\n",
       "      <td>1325376044</td>\n",
       "      <td>49.159047</td>\n",
       "      <td>-118.186462</td>\n",
       "      <td>0</td>\n",
       "    </tr>\n",
       "    <tr>\n",
       "      <th>2</th>\n",
       "      <td>2</td>\n",
       "      <td>2019-01-01 00:00:51</td>\n",
       "      <td>38859492057661</td>\n",
       "      <td>fraud_Lind-Buckridge</td>\n",
       "      <td>entertainment</td>\n",
       "      <td>220.11</td>\n",
       "      <td>Edward</td>\n",
       "      <td>Sanchez</td>\n",
       "      <td>M</td>\n",
       "      <td>594 White Dale Suite 530</td>\n",
       "      <td>...</td>\n",
       "      <td>42.1808</td>\n",
       "      <td>-112.2620</td>\n",
       "      <td>4154</td>\n",
       "      <td>Nature conservation officer</td>\n",
       "      <td>1962-01-19</td>\n",
       "      <td>a1a22d70485983eac12b5b88dad1cf95</td>\n",
       "      <td>1325376051</td>\n",
       "      <td>43.150704</td>\n",
       "      <td>-112.154481</td>\n",
       "      <td>0</td>\n",
       "    </tr>\n",
       "    <tr>\n",
       "      <th>3</th>\n",
       "      <td>3</td>\n",
       "      <td>2019-01-01 00:01:16</td>\n",
       "      <td>3534093764340240</td>\n",
       "      <td>fraud_Kutch, Hermiston and Farrell</td>\n",
       "      <td>gas_transport</td>\n",
       "      <td>45.00</td>\n",
       "      <td>Jeremy</td>\n",
       "      <td>White</td>\n",
       "      <td>M</td>\n",
       "      <td>9443 Cynthia Court Apt. 038</td>\n",
       "      <td>...</td>\n",
       "      <td>46.2306</td>\n",
       "      <td>-112.1138</td>\n",
       "      <td>1939</td>\n",
       "      <td>Patent attorney</td>\n",
       "      <td>1967-01-12</td>\n",
       "      <td>6b849c168bdad6f867558c3793159a81</td>\n",
       "      <td>1325376076</td>\n",
       "      <td>47.034331</td>\n",
       "      <td>-112.561071</td>\n",
       "      <td>0</td>\n",
       "    </tr>\n",
       "    <tr>\n",
       "      <th>4</th>\n",
       "      <td>4</td>\n",
       "      <td>2019-01-01 00:03:06</td>\n",
       "      <td>375534208663984</td>\n",
       "      <td>fraud_Keeling-Crist</td>\n",
       "      <td>misc_pos</td>\n",
       "      <td>41.96</td>\n",
       "      <td>Tyler</td>\n",
       "      <td>Garcia</td>\n",
       "      <td>M</td>\n",
       "      <td>408 Bradley Rest</td>\n",
       "      <td>...</td>\n",
       "      <td>38.4207</td>\n",
       "      <td>-79.4629</td>\n",
       "      <td>99</td>\n",
       "      <td>Dance movement psychotherapist</td>\n",
       "      <td>1986-03-28</td>\n",
       "      <td>a41d7549acf90789359a9aa5346dcb46</td>\n",
       "      <td>1325376186</td>\n",
       "      <td>38.674999</td>\n",
       "      <td>-78.632459</td>\n",
       "      <td>0</td>\n",
       "    </tr>\n",
       "  </tbody>\n",
       "</table>\n",
       "<p>5 rows × 23 columns</p>\n",
       "</div>"
      ],
      "text/plain": [
       "   Unnamed: 0 trans_date_trans_time            cc_num  \\\n",
       "0           0   2019-01-01 00:00:18  2703186189652095   \n",
       "1           1   2019-01-01 00:00:44      630423337322   \n",
       "2           2   2019-01-01 00:00:51    38859492057661   \n",
       "3           3   2019-01-01 00:01:16  3534093764340240   \n",
       "4           4   2019-01-01 00:03:06   375534208663984   \n",
       "\n",
       "                             merchant       category     amt      first  \\\n",
       "0          fraud_Rippin, Kub and Mann       misc_net    4.97   Jennifer   \n",
       "1     fraud_Heller, Gutmann and Zieme    grocery_pos  107.23  Stephanie   \n",
       "2                fraud_Lind-Buckridge  entertainment  220.11     Edward   \n",
       "3  fraud_Kutch, Hermiston and Farrell  gas_transport   45.00     Jeremy   \n",
       "4                 fraud_Keeling-Crist       misc_pos   41.96      Tyler   \n",
       "\n",
       "      last gender                        street  ...      lat      long  \\\n",
       "0    Banks      F                561 Perry Cove  ...  36.0788  -81.1781   \n",
       "1     Gill      F  43039 Riley Greens Suite 393  ...  48.8878 -118.2105   \n",
       "2  Sanchez      M      594 White Dale Suite 530  ...  42.1808 -112.2620   \n",
       "3    White      M   9443 Cynthia Court Apt. 038  ...  46.2306 -112.1138   \n",
       "4   Garcia      M              408 Bradley Rest  ...  38.4207  -79.4629   \n",
       "\n",
       "   city_pop                                job         dob  \\\n",
       "0      3495          Psychologist, counselling  1988-03-09   \n",
       "1       149  Special educational needs teacher  1978-06-21   \n",
       "2      4154        Nature conservation officer  1962-01-19   \n",
       "3      1939                    Patent attorney  1967-01-12   \n",
       "4        99     Dance movement psychotherapist  1986-03-28   \n",
       "\n",
       "                          trans_num   unix_time  merch_lat  merch_long  \\\n",
       "0  0b242abb623afc578575680df30655b9  1325376018  36.011293  -82.048315   \n",
       "1  1f76529f8574734946361c461b024d99  1325376044  49.159047 -118.186462   \n",
       "2  a1a22d70485983eac12b5b88dad1cf95  1325376051  43.150704 -112.154481   \n",
       "3  6b849c168bdad6f867558c3793159a81  1325376076  47.034331 -112.561071   \n",
       "4  a41d7549acf90789359a9aa5346dcb46  1325376186  38.674999  -78.632459   \n",
       "\n",
       "   is_fraud  \n",
       "0         0  \n",
       "1         0  \n",
       "2         0  \n",
       "3         0  \n",
       "4         0  \n",
       "\n",
       "[5 rows x 23 columns]"
      ]
     },
     "execution_count": 5,
     "metadata": {},
     "output_type": "execute_result"
    }
   ],
   "source": [
    "df.head()"
   ]
  },
  {
   "cell_type": "code",
   "execution_count": 6,
   "id": "82c321c0-83dd-4867-bb2d-78aa6ddeb65a",
   "metadata": {},
   "outputs": [
    {
     "data": {
      "text/html": [
       "<div>\n",
       "<style scoped>\n",
       "    .dataframe tbody tr th:only-of-type {\n",
       "        vertical-align: middle;\n",
       "    }\n",
       "\n",
       "    .dataframe tbody tr th {\n",
       "        vertical-align: top;\n",
       "    }\n",
       "\n",
       "    .dataframe thead th {\n",
       "        text-align: right;\n",
       "    }\n",
       "</style>\n",
       "<table border=\"1\" class=\"dataframe\">\n",
       "  <thead>\n",
       "    <tr style=\"text-align: right;\">\n",
       "      <th></th>\n",
       "      <th>trans_date_trans_time</th>\n",
       "      <th>cc_num</th>\n",
       "      <th>merchant</th>\n",
       "      <th>category</th>\n",
       "      <th>amt</th>\n",
       "      <th>gender</th>\n",
       "      <th>city</th>\n",
       "      <th>state</th>\n",
       "      <th>zip</th>\n",
       "      <th>lat</th>\n",
       "      <th>long</th>\n",
       "      <th>merch_lat</th>\n",
       "      <th>merch_long</th>\n",
       "      <th>is_fraud</th>\n",
       "    </tr>\n",
       "  </thead>\n",
       "  <tbody>\n",
       "    <tr>\n",
       "      <th>0</th>\n",
       "      <td>2019-01-01 00:00:18</td>\n",
       "      <td>2703186189652095</td>\n",
       "      <td>fraud_Rippin, Kub and Mann</td>\n",
       "      <td>misc_net</td>\n",
       "      <td>4.97</td>\n",
       "      <td>F</td>\n",
       "      <td>Moravian Falls</td>\n",
       "      <td>NC</td>\n",
       "      <td>28654</td>\n",
       "      <td>36.0788</td>\n",
       "      <td>-81.1781</td>\n",
       "      <td>36.011293</td>\n",
       "      <td>-82.048315</td>\n",
       "      <td>0</td>\n",
       "    </tr>\n",
       "    <tr>\n",
       "      <th>1</th>\n",
       "      <td>2019-01-01 00:00:44</td>\n",
       "      <td>630423337322</td>\n",
       "      <td>fraud_Heller, Gutmann and Zieme</td>\n",
       "      <td>grocery_pos</td>\n",
       "      <td>107.23</td>\n",
       "      <td>F</td>\n",
       "      <td>Orient</td>\n",
       "      <td>WA</td>\n",
       "      <td>99160</td>\n",
       "      <td>48.8878</td>\n",
       "      <td>-118.2105</td>\n",
       "      <td>49.159047</td>\n",
       "      <td>-118.186462</td>\n",
       "      <td>0</td>\n",
       "    </tr>\n",
       "    <tr>\n",
       "      <th>2</th>\n",
       "      <td>2019-01-01 00:00:51</td>\n",
       "      <td>38859492057661</td>\n",
       "      <td>fraud_Lind-Buckridge</td>\n",
       "      <td>entertainment</td>\n",
       "      <td>220.11</td>\n",
       "      <td>M</td>\n",
       "      <td>Malad City</td>\n",
       "      <td>ID</td>\n",
       "      <td>83252</td>\n",
       "      <td>42.1808</td>\n",
       "      <td>-112.2620</td>\n",
       "      <td>43.150704</td>\n",
       "      <td>-112.154481</td>\n",
       "      <td>0</td>\n",
       "    </tr>\n",
       "    <tr>\n",
       "      <th>3</th>\n",
       "      <td>2019-01-01 00:01:16</td>\n",
       "      <td>3534093764340240</td>\n",
       "      <td>fraud_Kutch, Hermiston and Farrell</td>\n",
       "      <td>gas_transport</td>\n",
       "      <td>45.00</td>\n",
       "      <td>M</td>\n",
       "      <td>Boulder</td>\n",
       "      <td>MT</td>\n",
       "      <td>59632</td>\n",
       "      <td>46.2306</td>\n",
       "      <td>-112.1138</td>\n",
       "      <td>47.034331</td>\n",
       "      <td>-112.561071</td>\n",
       "      <td>0</td>\n",
       "    </tr>\n",
       "    <tr>\n",
       "      <th>4</th>\n",
       "      <td>2019-01-01 00:03:06</td>\n",
       "      <td>375534208663984</td>\n",
       "      <td>fraud_Keeling-Crist</td>\n",
       "      <td>misc_pos</td>\n",
       "      <td>41.96</td>\n",
       "      <td>M</td>\n",
       "      <td>Doe Hill</td>\n",
       "      <td>VA</td>\n",
       "      <td>24433</td>\n",
       "      <td>38.4207</td>\n",
       "      <td>-79.4629</td>\n",
       "      <td>38.674999</td>\n",
       "      <td>-78.632459</td>\n",
       "      <td>0</td>\n",
       "    </tr>\n",
       "    <tr>\n",
       "      <th>...</th>\n",
       "      <td>...</td>\n",
       "      <td>...</td>\n",
       "      <td>...</td>\n",
       "      <td>...</td>\n",
       "      <td>...</td>\n",
       "      <td>...</td>\n",
       "      <td>...</td>\n",
       "      <td>...</td>\n",
       "      <td>...</td>\n",
       "      <td>...</td>\n",
       "      <td>...</td>\n",
       "      <td>...</td>\n",
       "      <td>...</td>\n",
       "      <td>...</td>\n",
       "    </tr>\n",
       "    <tr>\n",
       "      <th>1296670</th>\n",
       "      <td>2020-06-21 12:12:08</td>\n",
       "      <td>30263540414123</td>\n",
       "      <td>fraud_Reichel Inc</td>\n",
       "      <td>entertainment</td>\n",
       "      <td>15.56</td>\n",
       "      <td>M</td>\n",
       "      <td>Hatch</td>\n",
       "      <td>UT</td>\n",
       "      <td>84735</td>\n",
       "      <td>37.7175</td>\n",
       "      <td>-112.4777</td>\n",
       "      <td>36.841266</td>\n",
       "      <td>-111.690765</td>\n",
       "      <td>0</td>\n",
       "    </tr>\n",
       "    <tr>\n",
       "      <th>1296671</th>\n",
       "      <td>2020-06-21 12:12:19</td>\n",
       "      <td>6011149206456997</td>\n",
       "      <td>fraud_Abernathy and Sons</td>\n",
       "      <td>food_dining</td>\n",
       "      <td>51.70</td>\n",
       "      <td>M</td>\n",
       "      <td>Tuscarora</td>\n",
       "      <td>MD</td>\n",
       "      <td>21790</td>\n",
       "      <td>39.2667</td>\n",
       "      <td>-77.5101</td>\n",
       "      <td>38.906881</td>\n",
       "      <td>-78.246528</td>\n",
       "      <td>0</td>\n",
       "    </tr>\n",
       "    <tr>\n",
       "      <th>1296672</th>\n",
       "      <td>2020-06-21 12:12:32</td>\n",
       "      <td>3514865930894695</td>\n",
       "      <td>fraud_Stiedemann Ltd</td>\n",
       "      <td>food_dining</td>\n",
       "      <td>105.93</td>\n",
       "      <td>M</td>\n",
       "      <td>High Rolls Mountain Park</td>\n",
       "      <td>NM</td>\n",
       "      <td>88325</td>\n",
       "      <td>32.9396</td>\n",
       "      <td>-105.8189</td>\n",
       "      <td>33.619513</td>\n",
       "      <td>-105.130529</td>\n",
       "      <td>0</td>\n",
       "    </tr>\n",
       "    <tr>\n",
       "      <th>1296673</th>\n",
       "      <td>2020-06-21 12:13:36</td>\n",
       "      <td>2720012583106919</td>\n",
       "      <td>fraud_Reinger, Weissnat and Strosin</td>\n",
       "      <td>food_dining</td>\n",
       "      <td>74.90</td>\n",
       "      <td>M</td>\n",
       "      <td>Manderson</td>\n",
       "      <td>SD</td>\n",
       "      <td>57756</td>\n",
       "      <td>43.3526</td>\n",
       "      <td>-102.5411</td>\n",
       "      <td>42.788940</td>\n",
       "      <td>-103.241160</td>\n",
       "      <td>0</td>\n",
       "    </tr>\n",
       "    <tr>\n",
       "      <th>1296674</th>\n",
       "      <td>2020-06-21 12:13:37</td>\n",
       "      <td>4292902571056973207</td>\n",
       "      <td>fraud_Langosh, Wintheiser and Hyatt</td>\n",
       "      <td>food_dining</td>\n",
       "      <td>4.30</td>\n",
       "      <td>M</td>\n",
       "      <td>Sula</td>\n",
       "      <td>MT</td>\n",
       "      <td>59871</td>\n",
       "      <td>45.8433</td>\n",
       "      <td>-113.8748</td>\n",
       "      <td>46.565983</td>\n",
       "      <td>-114.186110</td>\n",
       "      <td>0</td>\n",
       "    </tr>\n",
       "  </tbody>\n",
       "</table>\n",
       "<p>1296675 rows × 14 columns</p>\n",
       "</div>"
      ],
      "text/plain": [
       "        trans_date_trans_time               cc_num  \\\n",
       "0         2019-01-01 00:00:18     2703186189652095   \n",
       "1         2019-01-01 00:00:44         630423337322   \n",
       "2         2019-01-01 00:00:51       38859492057661   \n",
       "3         2019-01-01 00:01:16     3534093764340240   \n",
       "4         2019-01-01 00:03:06      375534208663984   \n",
       "...                       ...                  ...   \n",
       "1296670   2020-06-21 12:12:08       30263540414123   \n",
       "1296671   2020-06-21 12:12:19     6011149206456997   \n",
       "1296672   2020-06-21 12:12:32     3514865930894695   \n",
       "1296673   2020-06-21 12:13:36     2720012583106919   \n",
       "1296674   2020-06-21 12:13:37  4292902571056973207   \n",
       "\n",
       "                                    merchant       category     amt gender  \\\n",
       "0                 fraud_Rippin, Kub and Mann       misc_net    4.97      F   \n",
       "1            fraud_Heller, Gutmann and Zieme    grocery_pos  107.23      F   \n",
       "2                       fraud_Lind-Buckridge  entertainment  220.11      M   \n",
       "3         fraud_Kutch, Hermiston and Farrell  gas_transport   45.00      M   \n",
       "4                        fraud_Keeling-Crist       misc_pos   41.96      M   \n",
       "...                                      ...            ...     ...    ...   \n",
       "1296670                    fraud_Reichel Inc  entertainment   15.56      M   \n",
       "1296671             fraud_Abernathy and Sons    food_dining   51.70      M   \n",
       "1296672                 fraud_Stiedemann Ltd    food_dining  105.93      M   \n",
       "1296673  fraud_Reinger, Weissnat and Strosin    food_dining   74.90      M   \n",
       "1296674  fraud_Langosh, Wintheiser and Hyatt    food_dining    4.30      M   \n",
       "\n",
       "                             city state    zip      lat      long  merch_lat  \\\n",
       "0                  Moravian Falls    NC  28654  36.0788  -81.1781  36.011293   \n",
       "1                          Orient    WA  99160  48.8878 -118.2105  49.159047   \n",
       "2                      Malad City    ID  83252  42.1808 -112.2620  43.150704   \n",
       "3                         Boulder    MT  59632  46.2306 -112.1138  47.034331   \n",
       "4                        Doe Hill    VA  24433  38.4207  -79.4629  38.674999   \n",
       "...                           ...   ...    ...      ...       ...        ...   \n",
       "1296670                     Hatch    UT  84735  37.7175 -112.4777  36.841266   \n",
       "1296671                 Tuscarora    MD  21790  39.2667  -77.5101  38.906881   \n",
       "1296672  High Rolls Mountain Park    NM  88325  32.9396 -105.8189  33.619513   \n",
       "1296673                 Manderson    SD  57756  43.3526 -102.5411  42.788940   \n",
       "1296674                      Sula    MT  59871  45.8433 -113.8748  46.565983   \n",
       "\n",
       "         merch_long  is_fraud  \n",
       "0        -82.048315         0  \n",
       "1       -118.186462         0  \n",
       "2       -112.154481         0  \n",
       "3       -112.561071         0  \n",
       "4        -78.632459         0  \n",
       "...             ...       ...  \n",
       "1296670 -111.690765         0  \n",
       "1296671  -78.246528         0  \n",
       "1296672 -105.130529         0  \n",
       "1296673 -103.241160         0  \n",
       "1296674 -114.186110         0  \n",
       "\n",
       "[1296675 rows x 14 columns]"
      ]
     },
     "execution_count": 6,
     "metadata": {},
     "output_type": "execute_result"
    }
   ],
   "source": [
    "# Drop columns\n",
    "# A few columns seems very little-relevant while predicting if trans is fraud or not\n",
    "# such as name, job, dob, trans_no \n",
    "df.drop(['Unnamed: 0', 'first', 'last', 'job', 'dob', 'trans_num', 'city_pop', 'unix_time', 'street'], axis=1, inplace=True)\n",
    "df"
   ]
  },
  {
   "cell_type": "code",
   "execution_count": 7,
   "id": "cd8dcdb8-29bd-45d6-8fd5-ac999afd9eb6",
   "metadata": {},
   "outputs": [
    {
     "data": {
      "text/html": [
       "<div>\n",
       "<style scoped>\n",
       "    .dataframe tbody tr th:only-of-type {\n",
       "        vertical-align: middle;\n",
       "    }\n",
       "\n",
       "    .dataframe tbody tr th {\n",
       "        vertical-align: top;\n",
       "    }\n",
       "\n",
       "    .dataframe thead th {\n",
       "        text-align: right;\n",
       "    }\n",
       "</style>\n",
       "<table border=\"1\" class=\"dataframe\">\n",
       "  <thead>\n",
       "    <tr style=\"text-align: right;\">\n",
       "      <th></th>\n",
       "      <th>trans_date_trans_time</th>\n",
       "      <th>cc_num</th>\n",
       "      <th>merchant</th>\n",
       "      <th>category</th>\n",
       "      <th>amt</th>\n",
       "      <th>gender</th>\n",
       "      <th>city</th>\n",
       "      <th>state</th>\n",
       "      <th>zip</th>\n",
       "      <th>lat</th>\n",
       "      <th>long</th>\n",
       "      <th>merch_lat</th>\n",
       "      <th>merch_long</th>\n",
       "      <th>is_fraud</th>\n",
       "    </tr>\n",
       "  </thead>\n",
       "  <tbody>\n",
       "    <tr>\n",
       "      <th>1296670</th>\n",
       "      <td>2020-06-21 12:12:08</td>\n",
       "      <td>30263540414123</td>\n",
       "      <td>fraud_Reichel Inc</td>\n",
       "      <td>entertainment</td>\n",
       "      <td>15.56</td>\n",
       "      <td>M</td>\n",
       "      <td>Hatch</td>\n",
       "      <td>UT</td>\n",
       "      <td>84735</td>\n",
       "      <td>37.7175</td>\n",
       "      <td>-112.4777</td>\n",
       "      <td>36.841266</td>\n",
       "      <td>-111.690765</td>\n",
       "      <td>0</td>\n",
       "    </tr>\n",
       "    <tr>\n",
       "      <th>1296671</th>\n",
       "      <td>2020-06-21 12:12:19</td>\n",
       "      <td>6011149206456997</td>\n",
       "      <td>fraud_Abernathy and Sons</td>\n",
       "      <td>food_dining</td>\n",
       "      <td>51.70</td>\n",
       "      <td>M</td>\n",
       "      <td>Tuscarora</td>\n",
       "      <td>MD</td>\n",
       "      <td>21790</td>\n",
       "      <td>39.2667</td>\n",
       "      <td>-77.5101</td>\n",
       "      <td>38.906881</td>\n",
       "      <td>-78.246528</td>\n",
       "      <td>0</td>\n",
       "    </tr>\n",
       "    <tr>\n",
       "      <th>1296672</th>\n",
       "      <td>2020-06-21 12:12:32</td>\n",
       "      <td>3514865930894695</td>\n",
       "      <td>fraud_Stiedemann Ltd</td>\n",
       "      <td>food_dining</td>\n",
       "      <td>105.93</td>\n",
       "      <td>M</td>\n",
       "      <td>High Rolls Mountain Park</td>\n",
       "      <td>NM</td>\n",
       "      <td>88325</td>\n",
       "      <td>32.9396</td>\n",
       "      <td>-105.8189</td>\n",
       "      <td>33.619513</td>\n",
       "      <td>-105.130529</td>\n",
       "      <td>0</td>\n",
       "    </tr>\n",
       "    <tr>\n",
       "      <th>1296673</th>\n",
       "      <td>2020-06-21 12:13:36</td>\n",
       "      <td>2720012583106919</td>\n",
       "      <td>fraud_Reinger, Weissnat and Strosin</td>\n",
       "      <td>food_dining</td>\n",
       "      <td>74.90</td>\n",
       "      <td>M</td>\n",
       "      <td>Manderson</td>\n",
       "      <td>SD</td>\n",
       "      <td>57756</td>\n",
       "      <td>43.3526</td>\n",
       "      <td>-102.5411</td>\n",
       "      <td>42.788940</td>\n",
       "      <td>-103.241160</td>\n",
       "      <td>0</td>\n",
       "    </tr>\n",
       "    <tr>\n",
       "      <th>1296674</th>\n",
       "      <td>2020-06-21 12:13:37</td>\n",
       "      <td>4292902571056973207</td>\n",
       "      <td>fraud_Langosh, Wintheiser and Hyatt</td>\n",
       "      <td>food_dining</td>\n",
       "      <td>4.30</td>\n",
       "      <td>M</td>\n",
       "      <td>Sula</td>\n",
       "      <td>MT</td>\n",
       "      <td>59871</td>\n",
       "      <td>45.8433</td>\n",
       "      <td>-113.8748</td>\n",
       "      <td>46.565983</td>\n",
       "      <td>-114.186110</td>\n",
       "      <td>0</td>\n",
       "    </tr>\n",
       "  </tbody>\n",
       "</table>\n",
       "</div>"
      ],
      "text/plain": [
       "        trans_date_trans_time               cc_num  \\\n",
       "1296670   2020-06-21 12:12:08       30263540414123   \n",
       "1296671   2020-06-21 12:12:19     6011149206456997   \n",
       "1296672   2020-06-21 12:12:32     3514865930894695   \n",
       "1296673   2020-06-21 12:13:36     2720012583106919   \n",
       "1296674   2020-06-21 12:13:37  4292902571056973207   \n",
       "\n",
       "                                    merchant       category     amt gender  \\\n",
       "1296670                    fraud_Reichel Inc  entertainment   15.56      M   \n",
       "1296671             fraud_Abernathy and Sons    food_dining   51.70      M   \n",
       "1296672                 fraud_Stiedemann Ltd    food_dining  105.93      M   \n",
       "1296673  fraud_Reinger, Weissnat and Strosin    food_dining   74.90      M   \n",
       "1296674  fraud_Langosh, Wintheiser and Hyatt    food_dining    4.30      M   \n",
       "\n",
       "                             city state    zip      lat      long  merch_lat  \\\n",
       "1296670                     Hatch    UT  84735  37.7175 -112.4777  36.841266   \n",
       "1296671                 Tuscarora    MD  21790  39.2667  -77.5101  38.906881   \n",
       "1296672  High Rolls Mountain Park    NM  88325  32.9396 -105.8189  33.619513   \n",
       "1296673                 Manderson    SD  57756  43.3526 -102.5411  42.788940   \n",
       "1296674                      Sula    MT  59871  45.8433 -113.8748  46.565983   \n",
       "\n",
       "         merch_long  is_fraud  \n",
       "1296670 -111.690765         0  \n",
       "1296671  -78.246528         0  \n",
       "1296672 -105.130529         0  \n",
       "1296673 -103.241160         0  \n",
       "1296674 -114.186110         0  "
      ]
     },
     "execution_count": 7,
     "metadata": {},
     "output_type": "execute_result"
    }
   ],
   "source": [
    "df.tail()"
   ]
  },
  {
   "cell_type": "code",
   "execution_count": 8,
   "id": "5b5f19f7-d9a0-4890-bc37-8f516ef36b19",
   "metadata": {},
   "outputs": [
    {
     "name": "stdout",
     "output_type": "stream",
     "text": [
      "<class 'pandas.core.frame.DataFrame'>\n",
      "RangeIndex: 1296675 entries, 0 to 1296674\n",
      "Data columns (total 14 columns):\n",
      " #   Column                 Non-Null Count    Dtype  \n",
      "---  ------                 --------------    -----  \n",
      " 0   trans_date_trans_time  1296675 non-null  object \n",
      " 1   cc_num                 1296675 non-null  int64  \n",
      " 2   merchant               1296675 non-null  object \n",
      " 3   category               1296675 non-null  object \n",
      " 4   amt                    1296675 non-null  float64\n",
      " 5   gender                 1296675 non-null  object \n",
      " 6   city                   1296675 non-null  object \n",
      " 7   state                  1296675 non-null  object \n",
      " 8   zip                    1296675 non-null  int64  \n",
      " 9   lat                    1296675 non-null  float64\n",
      " 10  long                   1296675 non-null  float64\n",
      " 11  merch_lat              1296675 non-null  float64\n",
      " 12  merch_long             1296675 non-null  float64\n",
      " 13  is_fraud               1296675 non-null  int64  \n",
      "dtypes: float64(5), int64(3), object(6)\n",
      "memory usage: 138.5+ MB\n"
     ]
    }
   ],
   "source": [
    "df.info()"
   ]
  },
  {
   "cell_type": "code",
   "execution_count": 9,
   "id": "943fadfa-7a15-4c1f-af7f-162d4ec9c75e",
   "metadata": {},
   "outputs": [
    {
     "data": {
      "text/html": [
       "<div>\n",
       "<style scoped>\n",
       "    .dataframe tbody tr th:only-of-type {\n",
       "        vertical-align: middle;\n",
       "    }\n",
       "\n",
       "    .dataframe tbody tr th {\n",
       "        vertical-align: top;\n",
       "    }\n",
       "\n",
       "    .dataframe thead th {\n",
       "        text-align: right;\n",
       "    }\n",
       "</style>\n",
       "<table border=\"1\" class=\"dataframe\">\n",
       "  <thead>\n",
       "    <tr style=\"text-align: right;\">\n",
       "      <th></th>\n",
       "      <th>cc_num</th>\n",
       "      <th>amt</th>\n",
       "      <th>zip</th>\n",
       "      <th>lat</th>\n",
       "      <th>long</th>\n",
       "      <th>merch_lat</th>\n",
       "      <th>merch_long</th>\n",
       "      <th>is_fraud</th>\n",
       "    </tr>\n",
       "  </thead>\n",
       "  <tbody>\n",
       "    <tr>\n",
       "      <th>count</th>\n",
       "      <td>1.296675e+06</td>\n",
       "      <td>1.296675e+06</td>\n",
       "      <td>1.296675e+06</td>\n",
       "      <td>1.296675e+06</td>\n",
       "      <td>1.296675e+06</td>\n",
       "      <td>1.296675e+06</td>\n",
       "      <td>1.296675e+06</td>\n",
       "      <td>1.296675e+06</td>\n",
       "    </tr>\n",
       "    <tr>\n",
       "      <th>mean</th>\n",
       "      <td>4.171920e+17</td>\n",
       "      <td>7.035104e+01</td>\n",
       "      <td>4.880067e+04</td>\n",
       "      <td>3.853762e+01</td>\n",
       "      <td>-9.022634e+01</td>\n",
       "      <td>3.853734e+01</td>\n",
       "      <td>-9.022646e+01</td>\n",
       "      <td>5.788652e-03</td>\n",
       "    </tr>\n",
       "    <tr>\n",
       "      <th>std</th>\n",
       "      <td>1.308806e+18</td>\n",
       "      <td>1.603160e+02</td>\n",
       "      <td>2.689322e+04</td>\n",
       "      <td>5.075808e+00</td>\n",
       "      <td>1.375908e+01</td>\n",
       "      <td>5.109788e+00</td>\n",
       "      <td>1.377109e+01</td>\n",
       "      <td>7.586269e-02</td>\n",
       "    </tr>\n",
       "    <tr>\n",
       "      <th>min</th>\n",
       "      <td>6.041621e+10</td>\n",
       "      <td>1.000000e+00</td>\n",
       "      <td>1.257000e+03</td>\n",
       "      <td>2.002710e+01</td>\n",
       "      <td>-1.656723e+02</td>\n",
       "      <td>1.902779e+01</td>\n",
       "      <td>-1.666712e+02</td>\n",
       "      <td>0.000000e+00</td>\n",
       "    </tr>\n",
       "    <tr>\n",
       "      <th>25%</th>\n",
       "      <td>1.800429e+14</td>\n",
       "      <td>9.650000e+00</td>\n",
       "      <td>2.623700e+04</td>\n",
       "      <td>3.462050e+01</td>\n",
       "      <td>-9.679800e+01</td>\n",
       "      <td>3.473357e+01</td>\n",
       "      <td>-9.689728e+01</td>\n",
       "      <td>0.000000e+00</td>\n",
       "    </tr>\n",
       "    <tr>\n",
       "      <th>50%</th>\n",
       "      <td>3.521417e+15</td>\n",
       "      <td>4.752000e+01</td>\n",
       "      <td>4.817400e+04</td>\n",
       "      <td>3.935430e+01</td>\n",
       "      <td>-8.747690e+01</td>\n",
       "      <td>3.936568e+01</td>\n",
       "      <td>-8.743839e+01</td>\n",
       "      <td>0.000000e+00</td>\n",
       "    </tr>\n",
       "    <tr>\n",
       "      <th>75%</th>\n",
       "      <td>4.642255e+15</td>\n",
       "      <td>8.314000e+01</td>\n",
       "      <td>7.204200e+04</td>\n",
       "      <td>4.194040e+01</td>\n",
       "      <td>-8.015800e+01</td>\n",
       "      <td>4.195716e+01</td>\n",
       "      <td>-8.023680e+01</td>\n",
       "      <td>0.000000e+00</td>\n",
       "    </tr>\n",
       "    <tr>\n",
       "      <th>max</th>\n",
       "      <td>4.992346e+18</td>\n",
       "      <td>2.894890e+04</td>\n",
       "      <td>9.978300e+04</td>\n",
       "      <td>6.669330e+01</td>\n",
       "      <td>-6.795030e+01</td>\n",
       "      <td>6.751027e+01</td>\n",
       "      <td>-6.695090e+01</td>\n",
       "      <td>1.000000e+00</td>\n",
       "    </tr>\n",
       "  </tbody>\n",
       "</table>\n",
       "</div>"
      ],
      "text/plain": [
       "             cc_num           amt           zip           lat          long  \\\n",
       "count  1.296675e+06  1.296675e+06  1.296675e+06  1.296675e+06  1.296675e+06   \n",
       "mean   4.171920e+17  7.035104e+01  4.880067e+04  3.853762e+01 -9.022634e+01   \n",
       "std    1.308806e+18  1.603160e+02  2.689322e+04  5.075808e+00  1.375908e+01   \n",
       "min    6.041621e+10  1.000000e+00  1.257000e+03  2.002710e+01 -1.656723e+02   \n",
       "25%    1.800429e+14  9.650000e+00  2.623700e+04  3.462050e+01 -9.679800e+01   \n",
       "50%    3.521417e+15  4.752000e+01  4.817400e+04  3.935430e+01 -8.747690e+01   \n",
       "75%    4.642255e+15  8.314000e+01  7.204200e+04  4.194040e+01 -8.015800e+01   \n",
       "max    4.992346e+18  2.894890e+04  9.978300e+04  6.669330e+01 -6.795030e+01   \n",
       "\n",
       "          merch_lat    merch_long      is_fraud  \n",
       "count  1.296675e+06  1.296675e+06  1.296675e+06  \n",
       "mean   3.853734e+01 -9.022646e+01  5.788652e-03  \n",
       "std    5.109788e+00  1.377109e+01  7.586269e-02  \n",
       "min    1.902779e+01 -1.666712e+02  0.000000e+00  \n",
       "25%    3.473357e+01 -9.689728e+01  0.000000e+00  \n",
       "50%    3.936568e+01 -8.743839e+01  0.000000e+00  \n",
       "75%    4.195716e+01 -8.023680e+01  0.000000e+00  \n",
       "max    6.751027e+01 -6.695090e+01  1.000000e+00  "
      ]
     },
     "execution_count": 9,
     "metadata": {},
     "output_type": "execute_result"
    }
   ],
   "source": [
    "df.describe()"
   ]
  },
  {
   "cell_type": "markdown",
   "id": "eafddc59-1978-4e91-9f04-1d1fef4390f9",
   "metadata": {},
   "source": [
    "# Data Preprocessing"
   ]
  },
  {
   "cell_type": "code",
   "execution_count": 10,
   "id": "5f033762-65fd-4408-b989-869460231697",
   "metadata": {},
   "outputs": [
    {
     "data": {
      "text/plain": [
       "trans_date_trans_time    0\n",
       "cc_num                   0\n",
       "merchant                 0\n",
       "category                 0\n",
       "amt                      0\n",
       "gender                   0\n",
       "city                     0\n",
       "state                    0\n",
       "zip                      0\n",
       "lat                      0\n",
       "long                     0\n",
       "merch_lat                0\n",
       "merch_long               0\n",
       "is_fraud                 0\n",
       "dtype: int64"
      ]
     },
     "execution_count": 10,
     "metadata": {},
     "output_type": "execute_result"
    }
   ],
   "source": [
    "# check for null\n",
    "df.isnull().sum()"
   ]
  },
  {
   "cell_type": "code",
   "execution_count": 11,
   "id": "d078dddc-8e18-4bbd-8078-ae7a58dd7933",
   "metadata": {},
   "outputs": [
    {
     "data": {
      "text/plain": [
       "0"
      ]
     },
     "execution_count": 11,
     "metadata": {},
     "output_type": "execute_result"
    }
   ],
   "source": [
    "# Check for duplicate\n",
    "df.duplicated().sum()"
   ]
  },
  {
   "cell_type": "code",
   "execution_count": null,
   "id": "c4ada460-e081-4031-b68f-283a2bfc598c",
   "metadata": {},
   "outputs": [],
   "source": []
  },
  {
   "cell_type": "code",
   "execution_count": 12,
   "id": "49206d15-969f-4a02-b35b-cb214f43d4a5",
   "metadata": {},
   "outputs": [
    {
     "name": "stdout",
     "output_type": "stream",
     "text": [
      "693\n",
      "['fraud_Abbott-Rogahn' 'fraud_Abbott-Steuber' 'fraud_Abernathy and Sons'\n",
      " 'fraud_Abshire PLC' 'fraud_Adams, Kovacek and Kuhlman'\n",
      " 'fraud_Adams-Barrows' 'fraud_Altenwerth, Cartwright and Koss'\n",
      " 'fraud_Altenwerth-Kilback' 'fraud_Ankunding LLC'\n",
      " 'fraud_Ankunding-Carroll' 'fraud_Armstrong, Walter and Gottlieb'\n",
      " 'fraud_Auer LLC' 'fraud_Auer-Mosciski' 'fraud_Auer-West'\n",
      " 'fraud_Bahringer Group' 'fraud_Bahringer, Bergnaum and Quitzon'\n",
      " 'fraud_Bahringer, Osinski and Block'\n",
      " 'fraud_Bahringer, Schoen and Corkery' 'fraud_Bahringer-Larson'\n",
      " 'fraud_Bahringer-Streich' 'fraud_Bailey-Morar' 'fraud_Balistreri-Nader'\n",
      " 'fraud_Barrows PLC' 'fraud_Bartoletti and Sons' 'fraud_Bartoletti-Wunsch'\n",
      " 'fraud_Barton Inc' 'fraud_Barton LLC' 'fraud_Bashirian Group'\n",
      " 'fraud_Bauch-Blanda' 'fraud_Bauch-Raynor' 'fraud_Baumbach Ltd'\n",
      " 'fraud_Baumbach, Feeney and Morar' 'fraud_Baumbach, Hodkiewicz and Walsh'\n",
      " 'fraud_Baumbach, Strosin and Nicolas' 'fraud_Bechtelar-Rippin'\n",
      " 'fraud_Becker, Harris and Harvey' 'fraud_Bednar Group' 'fraud_Bednar Inc'\n",
      " 'fraud_Bednar PLC' 'fraud_Beer-Jast' 'fraud_Beier LLC'\n",
      " 'fraud_Beier and Sons' 'fraud_Beier-Hyatt' 'fraud_Berge LLC'\n",
      " 'fraud_Berge, Kautzer and Harris' 'fraud_Berge-Hills'\n",
      " 'fraud_Berge-Ullrich' 'fraud_Bernhard Inc'\n",
      " 'fraud_Bernhard, Grant and Langworth' 'fraud_Bernhard-Lesch'\n",
      " 'fraud_Bernier and Sons' 'fraud_Bernier, Streich and Jewess'\n",
      " 'fraud_Bernier, Volkman and Hoeger' 'fraud_Bins, Balistreri and Beatty'\n",
      " 'fraud_Bins-Howell' 'fraud_Bins-Rice' 'fraud_Bins-Tillman'\n",
      " 'fraud_Block Group' 'fraud_Block-Hauck' 'fraud_Block-Parisian'\n",
      " 'fraud_Bode-Rempel' 'fraud_Bode-Schuster'\n",
      " 'fraud_Boehm, Block and Jakubowski' 'fraud_Boehm, Predovic and Reinger'\n",
      " 'fraud_Bogisich Inc' 'fraud_Bogisich-Homenick' 'fraud_Bogisich-Weimann'\n",
      " 'fraud_Botsford Ltd' 'fraud_Botsford PLC' 'fraud_Botsford and Sons'\n",
      " 'fraud_Boyer PLC' 'fraud_Boyer-Haley' 'fraud_Boyer-Reichert'\n",
      " 'fraud_Bradtke PLC' 'fraud_Bradtke, Torp and Bahringer'\n",
      " 'fraud_Breitenberg LLC' 'fraud_Breitenberg-Hermiston'\n",
      " 'fraud_Brekke and Sons' 'fraud_Brown Inc' 'fraud_Brown PLC'\n",
      " 'fraud_Brown, Homenick and Lesch' 'fraud_Brown-Greenholt'\n",
      " 'fraud_Bruen-Yost' 'fraud_Buckridge PLC' 'fraud_Carroll PLC'\n",
      " 'fraud_Cartwright PLC' 'fraud_Cartwright-Harris'\n",
      " 'fraud_Casper, Hand and Zulauf' 'fraud_Cassin-Harvey'\n",
      " 'fraud_Champlin and Sons' 'fraud_Champlin, Rolfson and Connelly'\n",
      " 'fraud_Champlin-Casper' 'fraud_Christiansen, Goyette and Schamberger'\n",
      " 'fraud_Christiansen-Gusikowski' 'fraud_Cole PLC'\n",
      " 'fraud_Cole, Hills and Jewess' 'fraud_Collier Inc' 'fraud_Collier LLC'\n",
      " 'fraud_Connelly PLC' 'fraud_Connelly, Reichert and Fritsch'\n",
      " 'fraud_Connelly-Carter' 'fraud_Conroy Ltd'\n",
      " 'fraud_Conroy, Balistreri and Gorczany' 'fraud_Conroy-Cruickshank'\n",
      " 'fraud_Conroy-Emard' 'fraud_Cormier LLC'\n",
      " 'fraud_Cormier, Stracke and Thiel' 'fraud_Corwin-Collins'\n",
      " 'fraud_Corwin-Gorczany' 'fraud_Corwin-Romaguera'\n",
      " 'fraud_Cremin, Hamill and Reichel' 'fraud_Crist, Jakubowski and Littel'\n",
      " 'fraud_Crona and Sons' 'fraud_Cronin, Kshlerin and Weber'\n",
      " 'fraud_Crooks and Sons' 'fraud_Cruickshank-Mills'\n",
      " 'fraud_Cummerata-Hilpert' 'fraud_Cummerata-Jones' 'fraud_Cummings Group'\n",
      " 'fraud_Cummings LLC' 'fraud_Dach-Borer' 'fraud_Dach-Nader'\n",
      " 'fraud_Dare, Casper and Bartoletti' 'fraud_Dare, Fritsch and Zboncak'\n",
      " 'fraud_Dare-Gibson' 'fraud_Dare-Marvin' 'fraud_Daugherty LLC'\n",
      " 'fraud_Daugherty, Pouros and Beahan' 'fraud_Daugherty-Thompson'\n",
      " 'fraud_Deckow-Dare' \"fraud_Deckow-O'Conner\" 'fraud_Denesik and Sons'\n",
      " 'fraud_Denesik, Powlowski and Pouros' 'fraud_Dibbert and Sons'\n",
      " 'fraud_Dibbert-Green' 'fraud_Dicki Ltd' 'fraud_Dickinson Ltd'\n",
      " 'fraud_Dickinson-Rempel' 'fraud_Dietrich-Fadel' 'fraud_Donnelly LLC'\n",
      " 'fraud_Donnelly PLC' 'fraud_Dooley Inc' 'fraud_Dooley-Thompson'\n",
      " 'fraud_Douglas, DuBuque and McKenzie'\n",
      " 'fraud_Douglas, Schneider and Turner' 'fraud_Douglas-White'\n",
      " 'fraud_Doyle Ltd' 'fraud_DuBuque LLC'\n",
      " 'fraud_Durgan, Gislason and Spencer' 'fraud_Durgan-Auer'\n",
      " 'fraud_Ebert-Daugherty' 'fraud_Effertz LLC'\n",
      " 'fraud_Effertz, Welch and Schowalter'\n",
      " 'fraud_Eichmann, Bogan and Rodriguez' 'fraud_Eichmann, Hayes and Treutel'\n",
      " 'fraud_Eichmann-Kilback' 'fraud_Eichmann-Russel' 'fraud_Emard Inc'\n",
      " 'fraud_Emmerich-Luettgen' 'fraud_Emmerich-Rau' 'fraud_Erdman-Durgan'\n",
      " 'fraud_Erdman-Ebert' 'fraud_Erdman-Kertzmann' 'fraud_Erdman-Schaden'\n",
      " 'fraud_Ernser-Feest' 'fraud_Ernser-Lynch' 'fraud_Fadel Inc'\n",
      " 'fraud_Fadel, Mertz and Rippin' 'fraud_Fadel-Hilpert' 'fraud_Fahey Inc'\n",
      " 'fraud_Feil, Hilpert and Koss' 'fraud_Feil-Morar'\n",
      " 'fraud_Ferry, Lynch and Kautzer' 'fraud_Ferry, Reichel and DuBuque'\n",
      " 'fraud_Fisher Inc' 'fraud_Fisher-Schowalter' 'fraud_Flatley Group'\n",
      " 'fraud_Flatley-Durgan' 'fraud_Frami Group' 'fraud_Friesen Inc'\n",
      " 'fraud_Friesen Ltd' \"fraud_Friesen-D'Amore\" 'fraud_Friesen-Ortiz'\n",
      " 'fraud_Friesen-Stamm' 'fraud_Fritsch LLC' 'fraud_Fritsch and Sons'\n",
      " 'fraud_Funk Group' 'fraud_Gaylord-Powlowski' 'fraud_Gerhold LLC'\n",
      " 'fraud_Gerlach Inc' 'fraud_Gibson-Deckow' 'fraud_Gislason Group'\n",
      " 'fraud_Gleason and Sons' 'fraud_Gleason-Macejkovic'\n",
      " 'fraud_Goldner, Kovacek and Abbott' 'fraud_Goldner-Lemke'\n",
      " 'fraud_Goodwin-Nitzsche' 'fraud_Gottlieb Group'\n",
      " 'fraud_Gottlieb, Considine and Schultz' 'fraud_Gottlieb-Hansen'\n",
      " 'fraud_Goyette Inc' 'fraud_Goyette, Howell and Collier'\n",
      " 'fraud_Goyette-Gerhold' 'fraud_Goyette-Herzog' 'fraud_Graham and Sons'\n",
      " 'fraud_Graham, Hegmann and Hammes'\n",
      " 'fraud_Greenfelder, Bartoletti and Davis' 'fraud_Greenholt Ltd'\n",
      " 'fraud_Greenholt, Jacobi and Gleason'\n",
      " \"fraud_Greenholt, O'Hara and Balistreri\" 'fraud_Grimes LLC'\n",
      " 'fraud_Gulgowski LLC' 'fraud_Gutmann Ltd'\n",
      " 'fraud_Gutmann, McLaughlin and Wiza' 'fraud_Gutmann-Upton'\n",
      " 'fraud_Haag-Blanda' 'fraud_Hackett Group' 'fraud_Hackett-Lueilwitz'\n",
      " 'fraud_Hagenes, Hermann and Stroman' 'fraud_Hagenes, Kohler and Hoppe'\n",
      " 'fraud_Hahn, Bahringer and McLaughlin'\n",
      " 'fraud_Hahn, Douglas and Schowalter' 'fraud_Haley Group'\n",
      " 'fraud_Haley, Batz and Auer' 'fraud_Haley, Jewess and Bechtelar'\n",
      " 'fraud_Halvorson Group' \"fraud_Hamill-D'Amore\" 'fraud_Hamill-Daugherty'\n",
      " 'fraud_Hammes-Beatty' 'fraud_Harber Inc' 'fraud_Harris Group'\n",
      " 'fraud_Harris Inc' 'fraud_Harris, Gusikowski and Heaney'\n",
      " 'fraud_Hartmann, Rowe and Hermann' 'fraud_Hauck, Dietrich and Funk'\n",
      " 'fraud_Hayes, Marquardt and Dibbert' 'fraud_Heaney-Marquardt'\n",
      " 'fraud_Heathcote LLC' 'fraud_Heathcote, Yost and Kertzmann'\n",
      " 'fraud_Heidenreich PLC' 'fraud_Heller PLC'\n",
      " 'fraud_Heller, Gutmann and Zieme' 'fraud_Heller-Abshire'\n",
      " 'fraud_Heller-Langosh' 'fraud_Herman Inc'\n",
      " 'fraud_Herman, Treutel and Dickens' 'fraud_Hermann and Sons'\n",
      " 'fraud_Hermann-Gaylord' 'fraud_Hermiston, Pacocha and Smith'\n",
      " 'fraud_Hermiston, Russel and Price' 'fraud_Herzog Ltd'\n",
      " 'fraud_Hettinger, McCullough and Fay' 'fraud_Hickle Group'\n",
      " 'fraud_Hills, Hegmann and Schaefer' 'fraud_Hills-Boyer'\n",
      " 'fraud_Hills-Olson' 'fraud_Hills-Witting' 'fraud_Hilpert-Conroy'\n",
      " 'fraud_Hintz, Bauch and Smith' 'fraud_Hintz-Bruen' 'fraud_Hirthe-Beier'\n",
      " 'fraud_Hodkiewicz, Prohaska and Paucek' 'fraud_Homenick LLC'\n",
      " 'fraud_Hoppe, Harris and Bednar' 'fraud_Hoppe-Parisian' 'fraud_Howe Ltd'\n",
      " 'fraud_Howe PLC' 'fraud_Hudson-Grady' 'fraud_Hudson-Ratke'\n",
      " 'fraud_Huel Ltd' 'fraud_Huel, Hammes and Witting' 'fraud_Huel-Langworth'\n",
      " 'fraud_Huels-Hahn' 'fraud_Huels-Nolan'\n",
      " 'fraud_Hyatt, Russel and Gleichner' 'fraud_Hyatt-Blick'\n",
      " 'fraud_Jacobi Inc' 'fraud_Jacobi and Sons' 'fraud_Jakubowski Group'\n",
      " 'fraud_Jakubowski Inc' 'fraud_Jaskolski-Dibbert'\n",
      " 'fraud_Jaskolski-Vandervort' 'fraud_Jast Ltd' 'fraud_Jast and Sons'\n",
      " 'fraud_Jast-McDermott' 'fraud_Jenkins, Hauck and Friesen'\n",
      " 'fraud_Jerde-Hermann' 'fraud_Jewess LLC' 'fraud_Johns Inc'\n",
      " 'fraud_Johns-Hoeger' 'fraud_Johnson, Runolfsdottir and Mayer'\n",
      " 'fraud_Johnston, Nikolaus and Maggio' 'fraud_Johnston-Casper'\n",
      " 'fraud_Jones, Sawayn and Romaguera' 'fraud_Kassulke Inc'\n",
      " 'fraud_Kassulke PLC' 'fraud_Kautzer and Sons' 'fraud_Keeling-Crist'\n",
      " 'fraud_Kemmer-Buckridge' 'fraud_Kemmer-Reinger' 'fraud_Kerluke Inc'\n",
      " 'fraud_Kerluke PLC' 'fraud_Kerluke, Considine and Macejkovic'\n",
      " 'fraud_Kerluke, Kertzmann and Wiza' 'fraud_Kerluke-Abshire'\n",
      " 'fraud_Kertzmann LLC' 'fraud_Kessler Group' 'fraud_Kessler Inc'\n",
      " 'fraud_Kiehn Inc' 'fraud_Kiehn-Emmerich' 'fraud_Kihn Inc'\n",
      " 'fraud_Kihn, Abernathy and Douglas' 'fraud_Kihn, Brakus and Goyette'\n",
      " 'fraud_Kihn-Fritsch' 'fraud_Kihn-Schuster' 'fraud_Kilback Group'\n",
      " 'fraud_Kilback LLC' 'fraud_Kilback and Sons'\n",
      " 'fraud_Kilback, Nitzsche and Leffler' 'fraud_Kirlin and Sons'\n",
      " 'fraud_Klein Group' 'fraud_Kling Inc' 'fraud_Kling, Howe and Schneider'\n",
      " 'fraud_Kling-Ernser' 'fraud_Kling-Grant' 'fraud_Klocko LLC'\n",
      " 'fraud_Klocko, Runolfsdottir and Breitenberg' 'fraud_Koelpin and Sons'\n",
      " 'fraud_Koepp-Parker' 'fraud_Koepp-Witting'\n",
      " 'fraud_Kohler, Lindgren and Koelpin'\n",
      " 'fraud_Konopelski, Schneider and Hartmann' 'fraud_Koss and Sons'\n",
      " 'fraud_Koss, Hansen and Lueilwitz' 'fraud_Koss, McLaughlin and Mayer'\n",
      " 'fraud_Kovacek Ltd' 'fraud_Kovacek, Dibbert and Ondricka'\n",
      " 'fraud_Kozey-Boehm' 'fraud_Kozey-Kuhlman' 'fraud_Kozey-McDermott'\n",
      " 'fraud_Kris-Kertzmann' 'fraud_Kris-Padberg' 'fraud_Kris-Weimann'\n",
      " 'fraud_Kub PLC' 'fraud_Kub-Heaney' 'fraud_Kuhic Inc' 'fraud_Kuhic LLC'\n",
      " 'fraud_Kuhic, Bins and Pfeffer' 'fraud_Kuhn Group' 'fraud_Kuhn LLC'\n",
      " 'fraud_Kulas Group' 'fraud_Kunde-Sanford' 'fraud_Kunze Inc'\n",
      " 'fraud_Kunze, Larkin and Mayert' 'fraud_Kuphal-Bartoletti'\n",
      " 'fraud_Kuphal-Predovic' 'fraud_Kuphal-Toy' 'fraud_Kutch Group'\n",
      " 'fraud_Kutch LLC' 'fraud_Kutch and Sons'\n",
      " 'fraud_Kutch, Hermiston and Farrell' 'fraud_Kutch, Steuber and Gerhold'\n",
      " 'fraud_Kutch-Ferry' 'fraud_Kutch-Hegmann' 'fraud_Kutch-Wilderman'\n",
      " 'fraud_Kuvalis Ltd' 'fraud_Labadie LLC' 'fraud_Labadie, Treutel and Bode'\n",
      " 'fraud_Lakin, Ferry and Beatty' 'fraud_Lang, Towne and Schuppe'\n",
      " 'fraud_Langosh, Wintheiser and Hyatt' 'fraud_Langworth LLC'\n",
      " 'fraud_Langworth, Boehm and Gulgowski' 'fraud_Larkin Ltd'\n",
      " 'fraud_Larkin, Stracke and Greenfelder'\n",
      " 'fraud_Larson, Quitzon and Spencer' 'fraud_Larson-Moen'\n",
      " 'fraud_Leannon-Nikolaus' 'fraud_Leannon-Ward' 'fraud_Lebsack and Sons'\n",
      " 'fraud_Ledner, Hartmann and Feest' 'fraud_Ledner-Pfannerstill'\n",
      " 'fraud_Leffler-Goldner' 'fraud_Lehner, Mosciski and King'\n",
      " 'fraud_Lehner, Reichert and Mills' 'fraud_Lemke and Sons'\n",
      " 'fraud_Lemke-Gutmann' 'fraud_Lesch Ltd' \"fraud_Lesch, D'Amore and Brown\"\n",
      " 'fraud_Lind, Huel and McClure' 'fraud_Lind-Buckridge' 'fraud_Little Ltd'\n",
      " 'fraud_Little, Gutmann and Lynch' 'fraud_Little-Gleichner'\n",
      " 'fraud_Lockman Ltd' 'fraud_Lockman, West and Runte'\n",
      " 'fraud_Lowe, Dietrich and Erdman' 'fraud_Lubowitz, Terry and Stracke'\n",
      " 'fraud_Lubowitz-Walter' 'fraud_Luettgen PLC' 'fraud_Lynch Ltd'\n",
      " 'fraud_Lynch-Mohr' 'fraud_Lynch-Wisozk' 'fraud_Macejkovic-Lesch'\n",
      " 'fraud_Maggio-Fahey' 'fraud_Mante Group'\n",
      " 'fraud_Mante, Luettgen and Hackett' 'fraud_Marks Inc' 'fraud_Marvin-Lind'\n",
      " 'fraud_Mayert Group' 'fraud_McCullough Group' 'fraud_McCullough LLC'\n",
      " 'fraud_McCullough, Hudson and Schuster'\n",
      " 'fraud_McDermott, Osinski and Morar' 'fraud_McDermott-Rice'\n",
      " 'fraud_McDermott-Weimann' 'fraud_McGlynn-Heathcote'\n",
      " 'fraud_McGlynn-Jaskolski' 'fraud_McKenzie-Huels'\n",
      " 'fraud_McLaughlin, Armstrong and Koepp' 'fraud_Medhurst Inc'\n",
      " 'fraud_Medhurst PLC' 'fraud_Medhurst, Cartwright and Ebert'\n",
      " 'fraud_Medhurst, Labadie and Gottlieb' 'fraud_Metz, Russel and Metz'\n",
      " 'fraud_Metz-Boehm' 'fraud_Miller-Harris' 'fraud_Miller-Hauck'\n",
      " 'fraud_Moen, Reinger and Murphy' 'fraud_Mohr Inc' 'fraud_Mohr-Bayer'\n",
      " 'fraud_Monahan, Bogisich and Ledner' 'fraud_Monahan, Hermann and Johns'\n",
      " 'fraud_Monahan-Morar' 'fraud_Moore, Dibbert and Koepp'\n",
      " 'fraud_Moore, Williamson and Emmerich' 'fraud_Morar Inc'\n",
      " 'fraud_Morissette LLC' 'fraud_Morissette PLC'\n",
      " 'fraud_Morissette, Weber and Wiegand' 'fraud_Morissette-Schaefer'\n",
      " 'fraud_Mosciski Group' 'fraud_Mosciski, Gislason and Mertz'\n",
      " 'fraud_Mosciski, Ziemann and Farrell' 'fraud_Mraz-Herzog'\n",
      " 'fraud_Mueller, Gerhold and Mueller' 'fraud_Murray Ltd'\n",
      " 'fraud_Murray-Smitham' 'fraud_Nader-Heller' 'fraud_Nader-Maggio'\n",
      " 'fraud_Nicolas, Hills and McGlynn' 'fraud_Nienow PLC'\n",
      " 'fraud_Nienow, Ankunding and Collier'\n",
      " 'fraud_Nienow, Barrows and Romaguera' 'fraud_Nitzsche, Kessler and Wolff'\n",
      " 'fraud_Nolan-Williamson' \"fraud_O'Connell, Botsford and Hand\"\n",
      " \"fraud_O'Connell-Ullrich\" \"fraud_O'Hara-Wilderman\" \"fraud_O'Keefe-Hudson\"\n",
      " \"fraud_O'Keefe-Wisoky\" \"fraud_O'Reilly, Mohr and Purdy\"\n",
      " 'fraud_Okuneva, Schneider and Rau' 'fraud_Olson, Becker and Koch'\n",
      " 'fraud_Ortiz Group' 'fraud_Osinski Inc'\n",
      " 'fraud_Osinski, Ledner and Leuschke' 'fraud_Pacocha-Bauch'\n",
      " \"fraud_Pacocha-O'Reilly\" 'fraud_Pacocha-Weissnat' 'fraud_Padberg-Rogahn'\n",
      " 'fraud_Padberg-Sauer' 'fraud_Padberg-Welch' 'fraud_Pagac LLC'\n",
      " 'fraud_Parisian and Sons' 'fraud_Parisian, Schiller and Altenwerth'\n",
      " 'fraud_Parker, Nolan and Trantow' 'fraud_Parker-Kunde'\n",
      " 'fraud_Paucek-Wiza' 'fraud_Pfeffer LLC' 'fraud_Pfeffer and Sons'\n",
      " 'fraud_Pollich LLC' 'fraud_Pouros, Walker and Spencer'\n",
      " 'fraud_Pouros-Conroy' 'fraud_Pouros-Haag' 'fraud_Powlowski-Weimann'\n",
      " 'fraud_Predovic Inc' 'fraud_Price Inc' 'fraud_Prohaska-Murray'\n",
      " 'fraud_Prosacco LLC' 'fraud_Prosacco, Kreiger and Kovacek'\n",
      " 'fraud_Quitzon, Green and Bashirian' 'fraud_Quitzon-Goyette'\n",
      " 'fraud_Ratke and Sons' 'fraud_Rau and Sons' 'fraud_Rau-Grant'\n",
      " 'fraud_Rau-Robel' 'fraud_Raynor, Feest and Miller'\n",
      " 'fraud_Raynor, Reinger and Hagenes' 'fraud_Reichel Inc'\n",
      " 'fraud_Reichel LLC' 'fraud_Reichel, Bradtke and Blanda'\n",
      " 'fraud_Reichert, Huels and Hoppe' 'fraud_Reichert, Rowe and Mraz'\n",
      " 'fraud_Reichert, Shanahan and Hayes' 'fraud_Reichert-Weissnat'\n",
      " 'fraud_Reilly LLC' 'fraud_Reilly and Sons'\n",
      " 'fraud_Reilly, Heaney and Cole' 'fraud_Reinger, Weissnat and Strosin'\n",
      " 'fraud_Rempel Inc' 'fraud_Rempel PLC' 'fraud_Renner Ltd'\n",
      " 'fraud_Reynolds-Schinner' 'fraud_Rippin, Kub and Mann'\n",
      " 'fraud_Rippin-VonRueden' 'fraud_Ritchie, Bradtke and Stiedemann'\n",
      " 'fraud_Ritchie, Oberbrunner and Cremin'\n",
      " 'fraud_Robel, Cummerata and Prosacco'\n",
      " 'fraud_Roberts, Daniel and Macejkovic' 'fraud_Roberts, Ryan and Smith'\n",
      " 'fraud_Roberts-Beahan' 'fraud_Rodriguez Group'\n",
      " 'fraud_Rodriguez, Yost and Jenkins' 'fraud_Rohan, White and Aufderhar'\n",
      " 'fraud_Rolfson-Kunde' 'fraud_Romaguera Ltd' 'fraud_Romaguera and Sons'\n",
      " 'fraud_Romaguera, Cruickshank and Greenholt'\n",
      " 'fraud_Romaguera, Wehner and Tromp' 'fraud_Roob LLC'\n",
      " 'fraud_Roob, Conn and Tremblay' 'fraud_Roob-Okuneva'\n",
      " 'fraud_Rowe, Batz and Goodwin' 'fraud_Rowe-Vandervort'\n",
      " 'fraud_Ruecker Group' 'fraud_Ruecker, Beer and Collier'\n",
      " 'fraud_Ruecker-Mayert' 'fraud_Runolfsdottir, Mueller and Hand'\n",
      " 'fraud_Runolfsson and Sons' 'fraud_Runte, Green and Emard'\n",
      " 'fraud_Runte-Mohr' 'fraud_Rutherford, Homenick and Bergstrom'\n",
      " 'fraud_Rutherford-Mertz' 'fraud_Satterfield-Lowe' 'fraud_Sawayn PLC'\n",
      " 'fraud_Schaefer Ltd' 'fraud_Schaefer, Fay and Hilll'\n",
      " 'fraud_Schaefer, Maggio and Daugherty'\n",
      " 'fraud_Schaefer, McGlynn and Bosco' \"fraud_Schamberger-O'Keefe\"\n",
      " 'fraud_Schiller Ltd' 'fraud_Schiller, Blanda and Johnson'\n",
      " 'fraud_Schimmel-Olson' 'fraud_Schmeler Inc'\n",
      " 'fraud_Schmeler, Bashirian and Price' 'fraud_Schmeler-Howe'\n",
      " 'fraud_Schmidt and Sons' 'fraud_Schmidt-Larkin' 'fraud_Schmitt Inc'\n",
      " 'fraud_Schmitt Ltd' 'fraud_Schneider, Hayes and Nikolaus'\n",
      " 'fraud_Schoen Ltd' 'fraud_Schoen, Kuphal and Nitzsche'\n",
      " 'fraud_Schoen, Nienow and Bauch' 'fraud_Schoen-Quigley'\n",
      " 'fraud_Schroeder Group' 'fraud_Schroeder, Hauck and Treutel'\n",
      " 'fraud_Schroeder, Wolff and Hermiston' 'fraud_Schulist Ltd'\n",
      " 'fraud_Schultz, Simonis and Little' 'fraud_Schumm PLC'\n",
      " 'fraud_Schumm, Bauch and Ondricka' 'fraud_Schumm, McLaughlin and Carter'\n",
      " 'fraud_Schuppe LLC' 'fraud_Schuppe, Nolan and Hoeger'\n",
      " 'fraud_Schuppe-Schuppe' 'fraud_Shanahan-Lehner' 'fraud_Shields Inc'\n",
      " 'fraud_Shields-Wunsch' 'fraud_Simonis-Prohaska' 'fraud_Skiles LLC'\n",
      " 'fraud_Skiles-Ankunding' 'fraud_Smith-Stokes' 'fraud_Smitham-Boehm'\n",
      " 'fraud_Smitham-Schiller' 'fraud_Spencer PLC' 'fraud_Spencer-Runolfsson'\n",
      " 'fraud_Spinka Inc' 'fraud_Spinka-Welch' 'fraud_Sporer Inc'\n",
      " 'fraud_Sporer-Keebler' 'fraud_Stamm-Rodriguez' 'fraud_Stamm-Witting'\n",
      " 'fraud_Stanton, Jakubowski and Baumbach' 'fraud_Stark-Batz'\n",
      " 'fraud_Stark-Koss' 'fraud_Stehr, Jewess and Schimmel'\n",
      " 'fraud_Stiedemann Inc' 'fraud_Stiedemann Ltd'\n",
      " 'fraud_Stokes, Christiansen and Sipes' 'fraud_Stoltenberg-Beatty'\n",
      " 'fraud_Stracke-Lemke' 'fraud_Streich Ltd'\n",
      " 'fraud_Streich, Dietrich and Barton' 'fraud_Streich, Hansen and Veum'\n",
      " 'fraud_Streich, Rolfson and Wilderman' 'fraud_Stroman, Hudson and Erdman'\n",
      " 'fraud_Strosin-Cruickshank' 'fraud_Swaniawski, Bahringer and Ledner'\n",
      " 'fraud_Swaniawski, Lowe and Robel' 'fraud_Swaniawski, Nitzsche and Welch'\n",
      " 'fraud_Swift PLC' 'fraud_Swift, Bradtke and Marquardt' 'fraud_Terry Ltd'\n",
      " 'fraud_Terry, Johns and Bins' 'fraud_Terry-Huel' 'fraud_Thiel Ltd'\n",
      " 'fraud_Thiel PLC' 'fraud_Thiel-Thiel' 'fraud_Thompson-Gleason'\n",
      " 'fraud_Tillman LLC' 'fraud_Tillman, Dickinson and Labadie'\n",
      " 'fraud_Tillman, Fritsch and Schmitt' 'fraud_Torp, Muller and Borer'\n",
      " 'fraud_Torp-Labadie' 'fraud_Torp-Lemke' 'fraud_Torphy-Goyette'\n",
      " 'fraud_Torphy-Kertzmann' 'fraud_Towne LLC'\n",
      " 'fraud_Towne, Greenholt and Koepp' 'fraud_Towne, Walker and Borer'\n",
      " 'fraud_Trantow PLC' 'fraud_Treutel-King' 'fraud_Tromp Group'\n",
      " 'fraud_Tromp, Kerluke and Glover' 'fraud_Turcotte, Batz and Buckridge'\n",
      " 'fraud_Turcotte, McKenzie and Koss' 'fraud_Turcotte-Halvorson'\n",
      " 'fraud_Turner LLC' 'fraud_Turner and Sons'\n",
      " 'fraud_Turner, Ruecker and Parisian' 'fraud_Turner, Ziemann and Lehner'\n",
      " 'fraud_Ullrich Ltd' 'fraud_Upton PLC' 'fraud_Vandervort-Funk'\n",
      " 'fraud_Veum-Koelpin' 'fraud_Volkman Ltd' 'fraud_Volkman PLC'\n",
      " 'fraud_Volkman-Predovic' 'fraud_VonRueden Group' 'fraud_Waelchi Inc'\n",
      " 'fraud_Waelchi-Wolf' 'fraud_Walter, Hettinger and Kessler'\n",
      " 'fraud_Waters-Cruickshank' 'fraud_Watsica LLC'\n",
      " 'fraud_Watsica, Haag and Considine' 'fraud_Weber and Sons'\n",
      " 'fraud_Weber, Thiel and Hammes' 'fraud_Weimann, Kuhic and Beahan'\n",
      " 'fraud_Weimann-Lockman' 'fraud_Welch Inc' 'fraud_Welch, Rath and Koepp'\n",
      " 'fraud_White and Sons' 'fraud_Wiegand-Lowe' 'fraud_Wilkinson LLC'\n",
      " 'fraud_Wilkinson Ltd' 'fraud_Wilkinson PLC' 'fraud_Will Ltd'\n",
      " 'fraud_Williamson LLC' 'fraud_Willms, Kris and Bergnaum'\n",
      " 'fraud_Windler LLC' 'fraud_Windler, Goodwin and Kovacek'\n",
      " 'fraud_Wintheiser, Dietrich and Schimmel' 'fraud_Wisozk and Sons'\n",
      " 'fraud_Witting, Beer and Ernser' 'fraud_Wiza LLC'\n",
      " 'fraud_Wiza, Schaden and Stark' 'fraud_Wolf Inc'\n",
      " 'fraud_Wuckert, Wintheiser and Friesen' 'fraud_Wuckert-Goldner'\n",
      " 'fraud_Wuckert-Walter' 'fraud_Yost, Block and Koepp'\n",
      " 'fraud_Yost, Schamberger and Windler' 'fraud_Yost-Rogahn'\n",
      " 'fraud_Zboncak LLC' 'fraud_Zboncak Ltd' 'fraud_Zboncak, Rowe and Murazik'\n",
      " 'fraud_Zemlak Group' 'fraud_Zemlak, Tillman and Cremin'\n",
      " 'fraud_Ziemann-Waters' 'fraud_Zieme, Bode and Dooley' 'fraud_Zulauf LLC']\n"
     ]
    }
   ],
   "source": [
    "# Let's see how many merchants are there\n",
    "merchants = np.unique(df['merchant'])\n",
    "print(len(merchants))\n",
    "print(merchants)"
   ]
  },
  {
   "cell_type": "code",
   "execution_count": 13,
   "id": "015f7bd7-4a91-40ad-ae26-5b467008823a",
   "metadata": {},
   "outputs": [
    {
     "name": "stdout",
     "output_type": "stream",
     "text": [
      "14\n",
      "['entertainment' 'food_dining' 'gas_transport' 'grocery_net' 'grocery_pos'\n",
      " 'health_fitness' 'home' 'kids_pets' 'misc_net' 'misc_pos' 'personal_care'\n",
      " 'shopping_net' 'shopping_pos' 'travel']\n"
     ]
    }
   ],
   "source": [
    "# In what categories is the money spent?\n",
    "categories = np.unique(df['category'])\n",
    "print(len(categories))\n",
    "print(categories)"
   ]
  },
  {
   "cell_type": "code",
   "execution_count": 14,
   "id": "dc1e06f1-9665-4175-b28a-584d01f21365",
   "metadata": {},
   "outputs": [
    {
     "data": {
      "text/plain": [
       "category\n",
       "gas_transport     131659\n",
       "grocery_pos       123638\n",
       "home              123115\n",
       "shopping_pos      116672\n",
       "kids_pets         113035\n",
       "shopping_net       97543\n",
       "entertainment      94014\n",
       "food_dining        91461\n",
       "personal_care      90758\n",
       "health_fitness     85879\n",
       "misc_pos           79655\n",
       "misc_net           63287\n",
       "grocery_net        45452\n",
       "travel             40507\n",
       "Name: count, dtype: int64"
      ]
     },
     "execution_count": 14,
     "metadata": {},
     "output_type": "execute_result"
    }
   ],
   "source": [
    "categories_count = df['category'].value_counts()\n",
    "categories_count"
   ]
  },
  {
   "cell_type": "code",
   "execution_count": 15,
   "id": "9a4c249e-0e00-42dc-a356-7036108a0dfb",
   "metadata": {},
   "outputs": [
    {
     "data": {
      "image/png": "[encoded data removed]",
      "text/plain": [
       "<Figure size 1000x600 with 1 Axes>"
      ]
     },
     "metadata": {},
     "output_type": "display_data"
    }
   ],
   "source": [
    "plt.figure(figsize=(10,6))\n",
    "categories_count.sort_index().plot(kind='bar', color='green')\n",
    "plt.title(\"Number of Transactions per category\", color='r', fontsize=24)\n",
    "plt.xlabel(\"Categories\")\n",
    "plt.ylabel(\"Number of transactions\")\n",
    "plt.show()"
   ]
  },
  {
   "cell_type": "code",
   "execution_count": 16,
   "id": "1e380deb-b7d8-4e63-be14-2e9c8c27a841",
   "metadata": {},
   "outputs": [
    {
     "data": {
      "text/html": [
       "<div>\n",
       "<style scoped>\n",
       "    .dataframe tbody tr th:only-of-type {\n",
       "        vertical-align: middle;\n",
       "    }\n",
       "\n",
       "    .dataframe tbody tr th {\n",
       "        vertical-align: top;\n",
       "    }\n",
       "\n",
       "    .dataframe thead th {\n",
       "        text-align: right;\n",
       "    }\n",
       "</style>\n",
       "<table border=\"1\" class=\"dataframe\">\n",
       "  <thead>\n",
       "    <tr style=\"text-align: right;\">\n",
       "      <th>is_fraud</th>\n",
       "      <th>0</th>\n",
       "      <th>1</th>\n",
       "    </tr>\n",
       "    <tr>\n",
       "      <th>category</th>\n",
       "      <th></th>\n",
       "      <th></th>\n",
       "    </tr>\n",
       "  </thead>\n",
       "  <tbody>\n",
       "    <tr>\n",
       "      <th>entertainment</th>\n",
       "      <td>93781</td>\n",
       "      <td>233</td>\n",
       "    </tr>\n",
       "    <tr>\n",
       "      <th>food_dining</th>\n",
       "      <td>91310</td>\n",
       "      <td>151</td>\n",
       "    </tr>\n",
       "    <tr>\n",
       "      <th>gas_transport</th>\n",
       "      <td>131041</td>\n",
       "      <td>618</td>\n",
       "    </tr>\n",
       "    <tr>\n",
       "      <th>grocery_net</th>\n",
       "      <td>45318</td>\n",
       "      <td>134</td>\n",
       "    </tr>\n",
       "    <tr>\n",
       "      <th>grocery_pos</th>\n",
       "      <td>121895</td>\n",
       "      <td>1743</td>\n",
       "    </tr>\n",
       "    <tr>\n",
       "      <th>health_fitness</th>\n",
       "      <td>85746</td>\n",
       "      <td>133</td>\n",
       "    </tr>\n",
       "    <tr>\n",
       "      <th>home</th>\n",
       "      <td>122917</td>\n",
       "      <td>198</td>\n",
       "    </tr>\n",
       "    <tr>\n",
       "      <th>kids_pets</th>\n",
       "      <td>112796</td>\n",
       "      <td>239</td>\n",
       "    </tr>\n",
       "    <tr>\n",
       "      <th>misc_net</th>\n",
       "      <td>62372</td>\n",
       "      <td>915</td>\n",
       "    </tr>\n",
       "    <tr>\n",
       "      <th>misc_pos</th>\n",
       "      <td>79405</td>\n",
       "      <td>250</td>\n",
       "    </tr>\n",
       "    <tr>\n",
       "      <th>personal_care</th>\n",
       "      <td>90538</td>\n",
       "      <td>220</td>\n",
       "    </tr>\n",
       "    <tr>\n",
       "      <th>shopping_net</th>\n",
       "      <td>95830</td>\n",
       "      <td>1713</td>\n",
       "    </tr>\n",
       "    <tr>\n",
       "      <th>shopping_pos</th>\n",
       "      <td>115829</td>\n",
       "      <td>843</td>\n",
       "    </tr>\n",
       "    <tr>\n",
       "      <th>travel</th>\n",
       "      <td>40391</td>\n",
       "      <td>116</td>\n",
       "    </tr>\n",
       "  </tbody>\n",
       "</table>\n",
       "</div>"
      ],
      "text/plain": [
       "is_fraud             0     1\n",
       "category                    \n",
       "entertainment    93781   233\n",
       "food_dining      91310   151\n",
       "gas_transport   131041   618\n",
       "grocery_net      45318   134\n",
       "grocery_pos     121895  1743\n",
       "health_fitness   85746   133\n",
       "home            122917   198\n",
       "kids_pets       112796   239\n",
       "misc_net         62372   915\n",
       "misc_pos         79405   250\n",
       "personal_care    90538   220\n",
       "shopping_net     95830  1713\n",
       "shopping_pos    115829   843\n",
       "travel           40391   116"
      ]
     },
     "execution_count": 16,
     "metadata": {},
     "output_type": "execute_result"
    }
   ],
   "source": [
    "cat_counts = df.groupby(['category','is_fraud'])['is_fraud'].count().unstack()\n",
    "cat_counts"
   ]
  },
  {
   "cell_type": "code",
   "execution_count": 17,
   "id": "a6e863e2-78b0-436e-8c3d-aa2431397b8b",
   "metadata": {},
   "outputs": [
    {
     "data": {
      "image/png": "[encoded data removed]",
      "text/plain": [
       "<Figure size 1500x600 with 1 Axes>"
      ]
     },
     "metadata": {},
     "output_type": "display_data"
    }
   ],
   "source": [
    "ax = cat_counts.plot(kind='bar', stacked=True, color=['lightblue', 'orange'], figsize=(15, 6))\n",
    "ax.set_ylabel(\"Number of Transactions\")\n",
    "ax.set_xlabel(\"Category\")\n",
    "ax.set_title(\"Fraud and Non-Fraud Transactions by Category\")\n",
    "\n",
    "# Adding legend\n",
    "plt.legend([\"Non-Fraud (is_fraud=0)\", \"Fraud (is_fraud=1)\"])\n",
    "\n",
    "# Show the plot\n",
    "plt.show()"
   ]
  },
  {
   "cell_type": "code",
   "execution_count": 18,
   "id": "ac86297f-9457-4900-b35f-37ce558c67b8",
   "metadata": {},
   "outputs": [
    {
     "name": "stdout",
     "output_type": "stream",
     "text": [
      "2019-01-01 00:00:18\n",
      "2020-06-21 12:13:37\n"
     ]
    }
   ],
   "source": [
    "# Let's see about dates\n",
    "\n",
    "start_date = df['trans_date_trans_time'].min()\n",
    "end_date = df['trans_date_trans_time'].max()\n",
    "print(start_date)\n",
    "print(end_date)"
   ]
  },
  {
   "cell_type": "code",
   "execution_count": null,
   "id": "58fc0178-f7d4-4721-85cc-19029787b2a4",
   "metadata": {},
   "outputs": [],
   "source": []
  },
  {
   "cell_type": "code",
   "execution_count": 19,
   "id": "907b4f2c-d4e7-4e50-a5d4-618c5155a143",
   "metadata": {},
   "outputs": [],
   "source": [
    "# year-month of transaction\n",
    "df['month_year'] = pd.to_datetime(df['trans_date_trans_time']).dt.to_period('M')"
   ]
  },
  {
   "cell_type": "code",
   "execution_count": 20,
   "id": "1ad66314-39f7-4c0e-9d32-63e0a180a0a7",
   "metadata": {},
   "outputs": [
    {
     "data": {
      "text/html": [
       "<div>\n",
       "<style scoped>\n",
       "    .dataframe tbody tr th:only-of-type {\n",
       "        vertical-align: middle;\n",
       "    }\n",
       "\n",
       "    .dataframe tbody tr th {\n",
       "        vertical-align: top;\n",
       "    }\n",
       "\n",
       "    .dataframe thead th {\n",
       "        text-align: right;\n",
       "    }\n",
       "</style>\n",
       "<table border=\"1\" class=\"dataframe\">\n",
       "  <thead>\n",
       "    <tr style=\"text-align: right;\">\n",
       "      <th></th>\n",
       "      <th>trans_date_trans_time</th>\n",
       "      <th>cc_num</th>\n",
       "      <th>merchant</th>\n",
       "      <th>category</th>\n",
       "      <th>amt</th>\n",
       "      <th>gender</th>\n",
       "      <th>city</th>\n",
       "      <th>state</th>\n",
       "      <th>zip</th>\n",
       "      <th>lat</th>\n",
       "      <th>long</th>\n",
       "      <th>merch_lat</th>\n",
       "      <th>merch_long</th>\n",
       "      <th>is_fraud</th>\n",
       "      <th>month_year</th>\n",
       "    </tr>\n",
       "  </thead>\n",
       "  <tbody>\n",
       "    <tr>\n",
       "      <th>0</th>\n",
       "      <td>2019-01-01 00:00:18</td>\n",
       "      <td>2703186189652095</td>\n",
       "      <td>fraud_Rippin, Kub and Mann</td>\n",
       "      <td>misc_net</td>\n",
       "      <td>4.97</td>\n",
       "      <td>F</td>\n",
       "      <td>Moravian Falls</td>\n",
       "      <td>NC</td>\n",
       "      <td>28654</td>\n",
       "      <td>36.0788</td>\n",
       "      <td>-81.1781</td>\n",
       "      <td>36.011293</td>\n",
       "      <td>-82.048315</td>\n",
       "      <td>0</td>\n",
       "      <td>2019-01</td>\n",
       "    </tr>\n",
       "    <tr>\n",
       "      <th>1</th>\n",
       "      <td>2019-01-01 00:00:44</td>\n",
       "      <td>630423337322</td>\n",
       "      <td>fraud_Heller, Gutmann and Zieme</td>\n",
       "      <td>grocery_pos</td>\n",
       "      <td>107.23</td>\n",
       "      <td>F</td>\n",
       "      <td>Orient</td>\n",
       "      <td>WA</td>\n",
       "      <td>99160</td>\n",
       "      <td>48.8878</td>\n",
       "      <td>-118.2105</td>\n",
       "      <td>49.159047</td>\n",
       "      <td>-118.186462</td>\n",
       "      <td>0</td>\n",
       "      <td>2019-01</td>\n",
       "    </tr>\n",
       "    <tr>\n",
       "      <th>2</th>\n",
       "      <td>2019-01-01 00:00:51</td>\n",
       "      <td>38859492057661</td>\n",
       "      <td>fraud_Lind-Buckridge</td>\n",
       "      <td>entertainment</td>\n",
       "      <td>220.11</td>\n",
       "      <td>M</td>\n",
       "      <td>Malad City</td>\n",
       "      <td>ID</td>\n",
       "      <td>83252</td>\n",
       "      <td>42.1808</td>\n",
       "      <td>-112.2620</td>\n",
       "      <td>43.150704</td>\n",
       "      <td>-112.154481</td>\n",
       "      <td>0</td>\n",
       "      <td>2019-01</td>\n",
       "    </tr>\n",
       "    <tr>\n",
       "      <th>3</th>\n",
       "      <td>2019-01-01 00:01:16</td>\n",
       "      <td>3534093764340240</td>\n",
       "      <td>fraud_Kutch, Hermiston and Farrell</td>\n",
       "      <td>gas_transport</td>\n",
       "      <td>45.00</td>\n",
       "      <td>M</td>\n",
       "      <td>Boulder</td>\n",
       "      <td>MT</td>\n",
       "      <td>59632</td>\n",
       "      <td>46.2306</td>\n",
       "      <td>-112.1138</td>\n",
       "      <td>47.034331</td>\n",
       "      <td>-112.561071</td>\n",
       "      <td>0</td>\n",
       "      <td>2019-01</td>\n",
       "    </tr>\n",
       "    <tr>\n",
       "      <th>4</th>\n",
       "      <td>2019-01-01 00:03:06</td>\n",
       "      <td>375534208663984</td>\n",
       "      <td>fraud_Keeling-Crist</td>\n",
       "      <td>misc_pos</td>\n",
       "      <td>41.96</td>\n",
       "      <td>M</td>\n",
       "      <td>Doe Hill</td>\n",
       "      <td>VA</td>\n",
       "      <td>24433</td>\n",
       "      <td>38.4207</td>\n",
       "      <td>-79.4629</td>\n",
       "      <td>38.674999</td>\n",
       "      <td>-78.632459</td>\n",
       "      <td>0</td>\n",
       "      <td>2019-01</td>\n",
       "    </tr>\n",
       "  </tbody>\n",
       "</table>\n",
       "</div>"
      ],
      "text/plain": [
       "  trans_date_trans_time            cc_num                            merchant  \\\n",
       "0   2019-01-01 00:00:18  2703186189652095          fraud_Rippin, Kub and Mann   \n",
       "1   2019-01-01 00:00:44      630423337322     fraud_Heller, Gutmann and Zieme   \n",
       "2   2019-01-01 00:00:51    38859492057661                fraud_Lind-Buckridge   \n",
       "3   2019-01-01 00:01:16  3534093764340240  fraud_Kutch, Hermiston and Farrell   \n",
       "4   2019-01-01 00:03:06   375534208663984                 fraud_Keeling-Crist   \n",
       "\n",
       "        category     amt gender            city state    zip      lat  \\\n",
       "0       misc_net    4.97      F  Moravian Falls    NC  28654  36.0788   \n",
       "1    grocery_pos  107.23      F          Orient    WA  99160  48.8878   \n",
       "2  entertainment  220.11      M      Malad City    ID  83252  42.1808   \n",
       "3  gas_transport   45.00      M         Boulder    MT  59632  46.2306   \n",
       "4       misc_pos   41.96      M        Doe Hill    VA  24433  38.4207   \n",
       "\n",
       "       long  merch_lat  merch_long  is_fraud month_year  \n",
       "0  -81.1781  36.011293  -82.048315         0    2019-01  \n",
       "1 -118.2105  49.159047 -118.186462         0    2019-01  \n",
       "2 -112.2620  43.150704 -112.154481         0    2019-01  \n",
       "3 -112.1138  47.034331 -112.561071         0    2019-01  \n",
       "4  -79.4629  38.674999  -78.632459         0    2019-01  "
      ]
     },
     "execution_count": 20,
     "metadata": {},
     "output_type": "execute_result"
    }
   ],
   "source": [
    "df.head()"
   ]
  },
  {
   "cell_type": "code",
   "execution_count": 21,
   "id": "94330b98-ae39-48df-9b8d-6de33a539fa2",
   "metadata": {},
   "outputs": [
    {
     "name": "stdout",
     "output_type": "stream",
     "text": [
      "\n",
      "Transactions per Month-Year:\n",
      "month_year\n",
      "2019-12    141060\n",
      "2019-08     87359\n",
      "2019-07     86596\n",
      "2019-06     86064\n",
      "2020-05     74343\n",
      "2020-03     72850\n",
      "2019-05     72532\n",
      "2019-03     70939\n",
      "2019-09     70652\n",
      "2019-11     70421\n",
      "2019-10     68758\n",
      "2019-04     68078\n",
      "2020-04     66892\n",
      "2020-06     57747\n",
      "2019-01     52525\n",
      "2020-01     52202\n",
      "2019-02     49866\n",
      "2020-02     47791\n",
      "Freq: M, Name: count, dtype: int64\n"
     ]
    }
   ],
   "source": [
    "# Let's see how many transactions are there per month\n",
    "transactions_per_month_year = df['month_year'].value_counts()\n",
    "\n",
    "print(\"\\nTransactions per Month-Year:\")\n",
    "print(transactions_per_month_year)"
   ]
  },
  {
   "cell_type": "code",
   "execution_count": 22,
   "id": "99bb7c64-cd9e-444a-a209-a45096bc88ca",
   "metadata": {},
   "outputs": [
    {
     "data": {
      "text/plain": [
       "month_year\n",
       "2019-01    71.580200\n",
       "2019-02    72.286974\n",
       "2019-03    70.876195\n",
       "2019-04    69.941899\n",
       "2019-05    69.774766\n",
       "2019-06    70.138472\n",
       "2019-07    69.795680\n",
       "2019-08    69.223419\n",
       "2019-09    70.059367\n",
       "2019-10    70.555679\n",
       "2019-11    69.911711\n",
       "2019-12    70.311776\n",
       "2020-01    70.170961\n",
       "2020-02    70.514198\n",
       "2020-03    70.859521\n",
       "2020-04    70.132898\n",
       "2020-05    70.538407\n",
       "2020-06    71.120314\n",
       "Freq: M, Name: amt, dtype: float64"
      ]
     },
     "execution_count": 22,
     "metadata": {},
     "output_type": "execute_result"
    }
   ],
   "source": [
    "# Mean transaction per month\n",
    "df.groupby('month_year')['amt'].mean()"
   ]
  },
  {
   "cell_type": "code",
   "execution_count": 23,
   "id": "39bc72d7-61ab-4b0d-ad83-61148f3a501b",
   "metadata": {},
   "outputs": [
    {
     "data": {
      "image/png": "[encoded data removed]",
      "text/plain": [
       "<Figure size 1000x600 with 1 Axes>"
      ]
     },
     "metadata": {},
     "output_type": "display_data"
    }
   ],
   "source": [
    "plt.figure(figsize=(10, 6))\n",
    "transactions_per_month_year.sort_index().plot(kind='bar', color='red')\n",
    "plt.title('Transactions per Month-Year')\n",
    "plt.xlabel('Month-Year')\n",
    "plt.ylabel('Number of Transactions')\n",
    "plt.xticks(rotation=45)\n",
    "plt.show()"
   ]
  },
  {
   "cell_type": "code",
   "execution_count": 24,
   "id": "6e55193f-43f3-4ce6-bf08-a76d93b886a7",
   "metadata": {},
   "outputs": [
    {
     "data": {
      "text/html": [
       "<div>\n",
       "<style scoped>\n",
       "    .dataframe tbody tr th:only-of-type {\n",
       "        vertical-align: middle;\n",
       "    }\n",
       "\n",
       "    .dataframe tbody tr th {\n",
       "        vertical-align: top;\n",
       "    }\n",
       "\n",
       "    .dataframe thead th {\n",
       "        text-align: right;\n",
       "    }\n",
       "</style>\n",
       "<table border=\"1\" class=\"dataframe\">\n",
       "  <thead>\n",
       "    <tr style=\"text-align: right;\">\n",
       "      <th>is_fraud</th>\n",
       "      <th>0</th>\n",
       "      <th>1</th>\n",
       "    </tr>\n",
       "    <tr>\n",
       "      <th>month_year</th>\n",
       "      <th></th>\n",
       "      <th></th>\n",
       "    </tr>\n",
       "  </thead>\n",
       "  <tbody>\n",
       "    <tr>\n",
       "      <th>2019-01</th>\n",
       "      <td>52019</td>\n",
       "      <td>506</td>\n",
       "    </tr>\n",
       "    <tr>\n",
       "      <th>2019-02</th>\n",
       "      <td>49349</td>\n",
       "      <td>517</td>\n",
       "    </tr>\n",
       "    <tr>\n",
       "      <th>2019-03</th>\n",
       "      <td>70445</td>\n",
       "      <td>494</td>\n",
       "    </tr>\n",
       "    <tr>\n",
       "      <th>2019-04</th>\n",
       "      <td>67702</td>\n",
       "      <td>376</td>\n",
       "    </tr>\n",
       "    <tr>\n",
       "      <th>2019-05</th>\n",
       "      <td>72124</td>\n",
       "      <td>408</td>\n",
       "    </tr>\n",
       "    <tr>\n",
       "      <th>2019-06</th>\n",
       "      <td>85710</td>\n",
       "      <td>354</td>\n",
       "    </tr>\n",
       "    <tr>\n",
       "      <th>2019-07</th>\n",
       "      <td>86265</td>\n",
       "      <td>331</td>\n",
       "    </tr>\n",
       "    <tr>\n",
       "      <th>2019-08</th>\n",
       "      <td>86977</td>\n",
       "      <td>382</td>\n",
       "    </tr>\n",
       "    <tr>\n",
       "      <th>2019-09</th>\n",
       "      <td>70234</td>\n",
       "      <td>418</td>\n",
       "    </tr>\n",
       "    <tr>\n",
       "      <th>2019-10</th>\n",
       "      <td>68304</td>\n",
       "      <td>454</td>\n",
       "    </tr>\n",
       "    <tr>\n",
       "      <th>2019-11</th>\n",
       "      <td>70033</td>\n",
       "      <td>388</td>\n",
       "    </tr>\n",
       "    <tr>\n",
       "      <th>2019-12</th>\n",
       "      <td>140468</td>\n",
       "      <td>592</td>\n",
       "    </tr>\n",
       "    <tr>\n",
       "      <th>2020-01</th>\n",
       "      <td>51859</td>\n",
       "      <td>343</td>\n",
       "    </tr>\n",
       "    <tr>\n",
       "      <th>2020-02</th>\n",
       "      <td>47455</td>\n",
       "      <td>336</td>\n",
       "    </tr>\n",
       "    <tr>\n",
       "      <th>2020-03</th>\n",
       "      <td>72406</td>\n",
       "      <td>444</td>\n",
       "    </tr>\n",
       "    <tr>\n",
       "      <th>2020-04</th>\n",
       "      <td>66590</td>\n",
       "      <td>302</td>\n",
       "    </tr>\n",
       "    <tr>\n",
       "      <th>2020-05</th>\n",
       "      <td>73816</td>\n",
       "      <td>527</td>\n",
       "    </tr>\n",
       "    <tr>\n",
       "      <th>2020-06</th>\n",
       "      <td>57413</td>\n",
       "      <td>334</td>\n",
       "    </tr>\n",
       "  </tbody>\n",
       "</table>\n",
       "</div>"
      ],
      "text/plain": [
       "is_fraud         0    1\n",
       "month_year             \n",
       "2019-01      52019  506\n",
       "2019-02      49349  517\n",
       "2019-03      70445  494\n",
       "2019-04      67702  376\n",
       "2019-05      72124  408\n",
       "2019-06      85710  354\n",
       "2019-07      86265  331\n",
       "2019-08      86977  382\n",
       "2019-09      70234  418\n",
       "2019-10      68304  454\n",
       "2019-11      70033  388\n",
       "2019-12     140468  592\n",
       "2020-01      51859  343\n",
       "2020-02      47455  336\n",
       "2020-03      72406  444\n",
       "2020-04      66590  302\n",
       "2020-05      73816  527\n",
       "2020-06      57413  334"
      ]
     },
     "execution_count": 24,
     "metadata": {},
     "output_type": "execute_result"
    }
   ],
   "source": [
    "trans_per_month = df.groupby(['month_year', 'is_fraud'])['is_fraud'].count().unstack()\n",
    "trans_per_month"
   ]
  },
  {
   "cell_type": "code",
   "execution_count": 25,
   "id": "4612254c-b2af-4cf4-a0a4-403684d52f91",
   "metadata": {},
   "outputs": [
    {
     "data": {
      "text/plain": [
       "<Axes: xlabel='month_year'>"
      ]
     },
     "execution_count": 25,
     "metadata": {},
     "output_type": "execute_result"
    },
    {
     "data": {
      "image/png": "[encoded data removed]",
      "text/plain": [
       "<Figure size 1000x700 with 1 Axes>"
      ]
     },
     "metadata": {},
     "output_type": "display_data"
    }
   ],
   "source": [
    "trans_per_month.plot(kind='bar', stacked=True, color=['blue', 'red'], figsize=(10,7))\n",
    "# ax = cat_counts.plot(kind='bar', stacked=True, color=['lightblue', 'orange'], figsize=(15, 6))\n"
   ]
  },
  {
   "cell_type": "code",
   "execution_count": 26,
   "id": "a2e0f812-fe6d-420e-9615-df33c9f8dede",
   "metadata": {},
   "outputs": [
    {
     "name": "stdout",
     "output_type": "stream",
     "text": [
      "city                       is_fraud\n",
      "Achille                    0            519\n",
      "                           1             13\n",
      "Acworth                    0           2084\n",
      "                           1             13\n",
      "Adams                      0            516\n",
      "                                       ... \n",
      "Yellowstone National Park  0            513\n",
      "                           1             12\n",
      "Zaleski                    0           1545\n",
      "                           1             12\n",
      "Zavalla                    0           1537\n",
      "Name: is_fraud, Length: 1538, dtype: int64\n"
     ]
    }
   ],
   "source": [
    "# Frauds by city\n",
    "city_frauds = df.groupby(['city', 'is_fraud'])['is_fraud'].count()\n",
    "print(city_frauds)"
   ]
  },
  {
   "cell_type": "code",
   "execution_count": 27,
   "id": "cf2936f4-02f7-4b3d-885b-26c418d248c5",
   "metadata": {},
   "outputs": [
    {
     "name": "stdout",
     "output_type": "stream",
     "text": [
      "city\n",
      "Birmingham     5617.0\n",
      "San Antonio    5130.0\n",
      "Utica          5105.0\n",
      "Phoenix        5075.0\n",
      "Meridian       5060.0\n",
      "Thomas         4634.0\n",
      "Conway         4613.0\n",
      "Cleveland      4604.0\n",
      "Warren         4599.0\n",
      "Houston        4168.0\n",
      "dtype: float64\n"
     ]
    }
   ],
   "source": [
    "city_frauds = df.groupby(['city', 'is_fraud'])['is_fraud'].count().unstack()\n",
    "top10 = city_frauds.sum(axis=1).sort_values(ascending=False).head(10)\n",
    "print(top10)"
   ]
  },
  {
   "cell_type": "code",
   "execution_count": 28,
   "id": "5043e670-8439-4f49-bdf8-2360ae416950",
   "metadata": {},
   "outputs": [
    {
     "data": {
      "text/plain": [
       "gender\n",
       "F    709863\n",
       "M    586812\n",
       "Name: count, dtype: int64"
      ]
     },
     "execution_count": 28,
     "metadata": {},
     "output_type": "execute_result"
    }
   ],
   "source": [
    "# Gender\n",
    "gender_count = df['gender'].value_counts()\n",
    "gender_count"
   ]
  },
  {
   "cell_type": "code",
   "execution_count": 29,
   "id": "041b2ae0-41f0-4ab4-b8cd-b2afb5465760",
   "metadata": {},
   "outputs": [
    {
     "data": {
      "text/plain": [
       "<Axes: title={'center': 'Transactions per Gender'}, xlabel='gender'>"
      ]
     },
     "execution_count": 29,
     "metadata": {},
     "output_type": "execute_result"
    },
    {
     "data": {
      "image/png": "[encoded data removed]",
      "text/plain": [
       "<Figure size 640x480 with 1 Axes>"
      ]
     },
     "metadata": {},
     "output_type": "display_data"
    }
   ],
   "source": [
    "plt.title('Transactions per Gender')\n",
    "gender_count.plot(kind='bar')"
   ]
  },
  {
   "cell_type": "code",
   "execution_count": 30,
   "id": "acb01451-b4d1-4a53-81a7-cf75d9380246",
   "metadata": {},
   "outputs": [
    {
     "data": {
      "text/plain": [
       "gender\n",
       "F    49832612.83\n",
       "M    41389816.07\n",
       "Name: amt, dtype: float64"
      ]
     },
     "execution_count": 30,
     "metadata": {},
     "output_type": "execute_result"
    }
   ],
   "source": [
    "# sum of amount spent by each gender\n",
    "trans_amount_gender = df.groupby('gender')['amt'].sum()\n",
    "trans_amount_gender"
   ]
  },
  {
   "cell_type": "code",
   "execution_count": 31,
   "id": "ddc6bd9b-aafe-4c53-8e3e-5242197c2c45",
   "metadata": {},
   "outputs": [
    {
     "data": {
      "text/plain": [
       "gender\n",
       "F    70.200324\n",
       "M    70.533350\n",
       "Name: amt, dtype: float64"
      ]
     },
     "execution_count": 31,
     "metadata": {},
     "output_type": "execute_result"
    }
   ],
   "source": [
    "mean_spent_gender = df.groupby('gender')['amt'].mean()\n",
    "mean_spent_gender"
   ]
  },
  {
   "cell_type": "code",
   "execution_count": 32,
   "id": "2eaaac8e-5187-4b88-a1b0-149dd3f7f32e",
   "metadata": {},
   "outputs": [
    {
     "data": {
      "image/png": "[encoded data removed]",
      "text/plain": [
       "<Figure size 640x480 with 1 Axes>"
      ]
     },
     "metadata": {},
     "output_type": "display_data"
    }
   ],
   "source": [
    "plt.pie(trans_amount_gender, labels=trans_amount_gender.index, autopct='%1.1f%%', colors=['red', 'green'], startangle=90)\n",
    "plt.gca().set_aspect('equal')  # Equal aspect ratio ensures that pie is drawn as a circle.\n",
    "plt.text(1.05, 0.5, f\"Male: ${trans_amount_gender['M']}\\nFemale: ${trans_amount_gender['F']}\", \n",
    "         horizontalalignment='left', verticalalignment='center', fontsize=12, bbox=dict(facecolor='white', edgecolor='white', boxstyle='round,pad=0.5'))\n",
    "\n",
    "plt.title('Sum of Amount Spent by Gender')\n",
    "plt.show()"
   ]
  },
  {
   "cell_type": "code",
   "execution_count": 33,
   "id": "080aa846-9e5b-4c77-939d-d5ac0eb5cfd5",
   "metadata": {},
   "outputs": [
    {
     "name": "stdout",
     "output_type": "stream",
     "text": [
      "is_fraud\n",
      "0    1289169\n",
      "1       7506\n",
      "Name: count, dtype: int64\n",
      "fraud ratio = 0.005822355331224998\n"
     ]
    }
   ],
   "source": [
    "# So, what's the ration of fraud trans\n",
    "trans_type_count = df['is_fraud'].value_counts()\n",
    "print(trans_type_count)\n",
    "print(f\"fraud ratio = {trans_type_count[1]/trans_type_count[0]}\")"
   ]
  },
  {
   "cell_type": "code",
   "execution_count": 34,
   "id": "ebe2b2af-3c92-4788-90e4-65363bbdad72",
   "metadata": {},
   "outputs": [
    {
     "data": {
      "text/plain": [
       "<Axes: xlabel='is_fraud'>"
      ]
     },
     "execution_count": 34,
     "metadata": {},
     "output_type": "execute_result"
    },
    {
     "data": {
      "image/png": "[encoded data removed]",
      "text/plain": [
       "<Figure size 500x1200 with 1 Axes>"
      ]
     },
     "metadata": {},
     "output_type": "display_data"
    }
   ],
   "source": [
    "plt.figure(figsize=(5,12))\n",
    "trans_type_count.plot(kind='bar', color='skyblue')"
   ]
  },
  {
   "cell_type": "code",
   "execution_count": 35,
   "id": "2b46cdba-92ab-46fe-9e20-ae2fb010198d",
   "metadata": {},
   "outputs": [
    {
     "name": "stdout",
     "output_type": "stream",
     "text": [
      "is_fraud\n",
      "0    87234340.29\n",
      "1     3988088.61\n",
      "Name: amt, dtype: float64\n"
     ]
    }
   ],
   "source": [
    "# Amount spent in fraud and non-fraud trans\n",
    "spend = df.groupby('is_fraud')['amt'].sum()\n",
    "print(spend)"
   ]
  },
  {
   "cell_type": "code",
   "execution_count": 36,
   "id": "fffdbeb3-8c04-4fd2-800a-6b2c6f034e1d",
   "metadata": {},
   "outputs": [
    {
     "data": {
      "text/plain": [
       "is_fraud\n",
       "0     67.667110\n",
       "1    531.320092\n",
       "Name: amt, dtype: float64"
      ]
     },
     "execution_count": 36,
     "metadata": {},
     "output_type": "execute_result"
    }
   ],
   "source": [
    "# Mean spent on each\n",
    "mean_spent = df.groupby('is_fraud')['amt'].mean()\n",
    "mean_spent"
   ]
  },
  {
   "cell_type": "code",
   "execution_count": 37,
   "id": "8de4c837-1fa4-4290-9eb7-b52f5f36954d",
   "metadata": {},
   "outputs": [
    {
     "name": "stdout",
     "output_type": "stream",
     "text": [
      "983\n"
     ]
    }
   ],
   "source": [
    "# Total cards\n",
    "cards = np.unique(df['cc_num'])\n",
    "print(len(cards))"
   ]
  },
  {
   "cell_type": "code",
   "execution_count": 38,
   "id": "c28601d4-65cc-4dae-84ec-c9efe3aa96f7",
   "metadata": {},
   "outputs": [
    {
     "name": "stdout",
     "output_type": "stream",
     "text": [
      "cc_num\n",
      "571365235126           3123\n",
      "4512828414983801773    3123\n",
      "36722699017270         3119\n",
      "213112402583773        3117\n",
      "3545109339866548       3113\n",
      "                       ... \n",
      "180097223252063           7\n",
      "4225628813173670          7\n",
      "501894933032              7\n",
      "4975457191020             7\n",
      "340187018810220           7\n",
      "Name: count, Length: 983, dtype: int64\n"
     ]
    }
   ],
   "source": [
    "cc_count = df['cc_num'].value_counts()\n",
    "print(cc_count)"
   ]
  },
  {
   "cell_type": "code",
   "execution_count": 39,
   "id": "3fe2e88b-98f8-4fb9-a099-ea4275c273eb",
   "metadata": {},
   "outputs": [
    {
     "data": {
      "text/plain": [
       "cc_num\n",
       "60416207185             85043.47\n",
       "60422928733            105640.20\n",
       "60423098130             58673.63\n",
       "60427851591             59129.61\n",
       "60487002085             25160.11\n",
       "                         ...    \n",
       "4958589671582726883     97973.69\n",
       "4973530368125489546     81508.22\n",
       "4980323467523543940     39600.18\n",
       "4989847570577635369     88195.62\n",
       "4992346398065154184    139690.45\n",
       "Name: amt, Length: 983, dtype: float64"
      ]
     },
     "execution_count": 39,
     "metadata": {},
     "output_type": "execute_result"
    }
   ],
   "source": [
    "sum = df.groupby('cc_num')['amt'].sum()\n",
    "sum"
   ]
  },
  {
   "cell_type": "code",
   "execution_count": 40,
   "id": "007a6f54-e29d-4b33-a3bb-336d270e5767",
   "metadata": {},
   "outputs": [
    {
     "data": {
      "text/plain": [
       "array([[<Axes: title={'center': 'cc_num'}>,\n",
       "        <Axes: title={'center': 'amt'}>, <Axes: title={'center': 'zip'}>],\n",
       "       [<Axes: title={'center': 'lat'}>,\n",
       "        <Axes: title={'center': 'long'}>,\n",
       "        <Axes: title={'center': 'merch_lat'}>],\n",
       "       [<Axes: title={'center': 'merch_long'}>,\n",
       "        <Axes: title={'center': 'is_fraud'}>, <Axes: >]], dtype=object)"
      ]
     },
     "execution_count": 40,
     "metadata": {},
     "output_type": "execute_result"
    },
    {
     "data": {
      "image/png": "[encoded data removed]",
      "text/plain": [
       "<Figure size 1200x1000 with 9 Axes>"
      ]
     },
     "metadata": {},
     "output_type": "display_data"
    }
   ],
   "source": [
    "df.hist(bins=50, figsize=(12,10))"
   ]
  },
  {
   "cell_type": "code",
   "execution_count": 41,
   "id": "0ae41b59-0442-41f7-a32c-1248f813737a",
   "metadata": {},
   "outputs": [
    {
     "data": {
      "text/plain": [
       "<Axes: >"
      ]
     },
     "execution_count": 41,
     "metadata": {},
     "output_type": "execute_result"
    },
    {
     "data": {
      "image/png": "[encoded data removed]",
      "text/plain": [
       "<Figure size 1200x1000 with 2 Axes>"
      ]
     },
     "metadata": {},
     "output_type": "display_data"
    }
   ],
   "source": [
    "# Correlation heatmap\n",
    "num_cols = df.select_dtypes(include = ['float64','int64'])\n",
    "plt.figure(figsize=(12,10))\n",
    "sns.heatmap(num_cols.corr(), annot=True, cmap='coolwarm' )"
   ]
  },
  {
   "cell_type": "code",
   "execution_count": 42,
   "id": "01fdf2c5-81a3-449c-9ed1-e6c23aaa29a3",
   "metadata": {},
   "outputs": [
    {
     "data": {
      "text/html": [
       "<div>\n",
       "<style scoped>\n",
       "    .dataframe tbody tr th:only-of-type {\n",
       "        vertical-align: middle;\n",
       "    }\n",
       "\n",
       "    .dataframe tbody tr th {\n",
       "        vertical-align: top;\n",
       "    }\n",
       "\n",
       "    .dataframe thead th {\n",
       "        text-align: right;\n",
       "    }\n",
       "</style>\n",
       "<table border=\"1\" class=\"dataframe\">\n",
       "  <thead>\n",
       "    <tr style=\"text-align: right;\">\n",
       "      <th></th>\n",
       "      <th>merchant</th>\n",
       "      <th>category</th>\n",
       "      <th>amt</th>\n",
       "      <th>gender</th>\n",
       "      <th>city</th>\n",
       "      <th>state</th>\n",
       "      <th>lat</th>\n",
       "      <th>long</th>\n",
       "      <th>merch_lat</th>\n",
       "      <th>merch_long</th>\n",
       "      <th>is_fraud</th>\n",
       "    </tr>\n",
       "  </thead>\n",
       "  <tbody>\n",
       "    <tr>\n",
       "      <th>0</th>\n",
       "      <td>fraud_Rippin, Kub and Mann</td>\n",
       "      <td>misc_net</td>\n",
       "      <td>4.97</td>\n",
       "      <td>F</td>\n",
       "      <td>Moravian Falls</td>\n",
       "      <td>NC</td>\n",
       "      <td>36.0788</td>\n",
       "      <td>-81.1781</td>\n",
       "      <td>36.011293</td>\n",
       "      <td>-82.048315</td>\n",
       "      <td>0</td>\n",
       "    </tr>\n",
       "    <tr>\n",
       "      <th>1</th>\n",
       "      <td>fraud_Heller, Gutmann and Zieme</td>\n",
       "      <td>grocery_pos</td>\n",
       "      <td>107.23</td>\n",
       "      <td>F</td>\n",
       "      <td>Orient</td>\n",
       "      <td>WA</td>\n",
       "      <td>48.8878</td>\n",
       "      <td>-118.2105</td>\n",
       "      <td>49.159047</td>\n",
       "      <td>-118.186462</td>\n",
       "      <td>0</td>\n",
       "    </tr>\n",
       "    <tr>\n",
       "      <th>2</th>\n",
       "      <td>fraud_Lind-Buckridge</td>\n",
       "      <td>entertainment</td>\n",
       "      <td>220.11</td>\n",
       "      <td>M</td>\n",
       "      <td>Malad City</td>\n",
       "      <td>ID</td>\n",
       "      <td>42.1808</td>\n",
       "      <td>-112.2620</td>\n",
       "      <td>43.150704</td>\n",
       "      <td>-112.154481</td>\n",
       "      <td>0</td>\n",
       "    </tr>\n",
       "    <tr>\n",
       "      <th>3</th>\n",
       "      <td>fraud_Kutch, Hermiston and Farrell</td>\n",
       "      <td>gas_transport</td>\n",
       "      <td>45.00</td>\n",
       "      <td>M</td>\n",
       "      <td>Boulder</td>\n",
       "      <td>MT</td>\n",
       "      <td>46.2306</td>\n",
       "      <td>-112.1138</td>\n",
       "      <td>47.034331</td>\n",
       "      <td>-112.561071</td>\n",
       "      <td>0</td>\n",
       "    </tr>\n",
       "    <tr>\n",
       "      <th>4</th>\n",
       "      <td>fraud_Keeling-Crist</td>\n",
       "      <td>misc_pos</td>\n",
       "      <td>41.96</td>\n",
       "      <td>M</td>\n",
       "      <td>Doe Hill</td>\n",
       "      <td>VA</td>\n",
       "      <td>38.4207</td>\n",
       "      <td>-79.4629</td>\n",
       "      <td>38.674999</td>\n",
       "      <td>-78.632459</td>\n",
       "      <td>0</td>\n",
       "    </tr>\n",
       "    <tr>\n",
       "      <th>...</th>\n",
       "      <td>...</td>\n",
       "      <td>...</td>\n",
       "      <td>...</td>\n",
       "      <td>...</td>\n",
       "      <td>...</td>\n",
       "      <td>...</td>\n",
       "      <td>...</td>\n",
       "      <td>...</td>\n",
       "      <td>...</td>\n",
       "      <td>...</td>\n",
       "      <td>...</td>\n",
       "    </tr>\n",
       "    <tr>\n",
       "      <th>1296670</th>\n",
       "      <td>fraud_Reichel Inc</td>\n",
       "      <td>entertainment</td>\n",
       "      <td>15.56</td>\n",
       "      <td>M</td>\n",
       "      <td>Hatch</td>\n",
       "      <td>UT</td>\n",
       "      <td>37.7175</td>\n",
       "      <td>-112.4777</td>\n",
       "      <td>36.841266</td>\n",
       "      <td>-111.690765</td>\n",
       "      <td>0</td>\n",
       "    </tr>\n",
       "    <tr>\n",
       "      <th>1296671</th>\n",
       "      <td>fraud_Abernathy and Sons</td>\n",
       "      <td>food_dining</td>\n",
       "      <td>51.70</td>\n",
       "      <td>M</td>\n",
       "      <td>Tuscarora</td>\n",
       "      <td>MD</td>\n",
       "      <td>39.2667</td>\n",
       "      <td>-77.5101</td>\n",
       "      <td>38.906881</td>\n",
       "      <td>-78.246528</td>\n",
       "      <td>0</td>\n",
       "    </tr>\n",
       "    <tr>\n",
       "      <th>1296672</th>\n",
       "      <td>fraud_Stiedemann Ltd</td>\n",
       "      <td>food_dining</td>\n",
       "      <td>105.93</td>\n",
       "      <td>M</td>\n",
       "      <td>High Rolls Mountain Park</td>\n",
       "      <td>NM</td>\n",
       "      <td>32.9396</td>\n",
       "      <td>-105.8189</td>\n",
       "      <td>33.619513</td>\n",
       "      <td>-105.130529</td>\n",
       "      <td>0</td>\n",
       "    </tr>\n",
       "    <tr>\n",
       "      <th>1296673</th>\n",
       "      <td>fraud_Reinger, Weissnat and Strosin</td>\n",
       "      <td>food_dining</td>\n",
       "      <td>74.90</td>\n",
       "      <td>M</td>\n",
       "      <td>Manderson</td>\n",
       "      <td>SD</td>\n",
       "      <td>43.3526</td>\n",
       "      <td>-102.5411</td>\n",
       "      <td>42.788940</td>\n",
       "      <td>-103.241160</td>\n",
       "      <td>0</td>\n",
       "    </tr>\n",
       "    <tr>\n",
       "      <th>1296674</th>\n",
       "      <td>fraud_Langosh, Wintheiser and Hyatt</td>\n",
       "      <td>food_dining</td>\n",
       "      <td>4.30</td>\n",
       "      <td>M</td>\n",
       "      <td>Sula</td>\n",
       "      <td>MT</td>\n",
       "      <td>45.8433</td>\n",
       "      <td>-113.8748</td>\n",
       "      <td>46.565983</td>\n",
       "      <td>-114.186110</td>\n",
       "      <td>0</td>\n",
       "    </tr>\n",
       "  </tbody>\n",
       "</table>\n",
       "<p>1296675 rows × 11 columns</p>\n",
       "</div>"
      ],
      "text/plain": [
       "                                    merchant       category     amt gender  \\\n",
       "0                 fraud_Rippin, Kub and Mann       misc_net    4.97      F   \n",
       "1            fraud_Heller, Gutmann and Zieme    grocery_pos  107.23      F   \n",
       "2                       fraud_Lind-Buckridge  entertainment  220.11      M   \n",
       "3         fraud_Kutch, Hermiston and Farrell  gas_transport   45.00      M   \n",
       "4                        fraud_Keeling-Crist       misc_pos   41.96      M   \n",
       "...                                      ...            ...     ...    ...   \n",
       "1296670                    fraud_Reichel Inc  entertainment   15.56      M   \n",
       "1296671             fraud_Abernathy and Sons    food_dining   51.70      M   \n",
       "1296672                 fraud_Stiedemann Ltd    food_dining  105.93      M   \n",
       "1296673  fraud_Reinger, Weissnat and Strosin    food_dining   74.90      M   \n",
       "1296674  fraud_Langosh, Wintheiser and Hyatt    food_dining    4.30      M   \n",
       "\n",
       "                             city state      lat      long  merch_lat  \\\n",
       "0                  Moravian Falls    NC  36.0788  -81.1781  36.011293   \n",
       "1                          Orient    WA  48.8878 -118.2105  49.159047   \n",
       "2                      Malad City    ID  42.1808 -112.2620  43.150704   \n",
       "3                         Boulder    MT  46.2306 -112.1138  47.034331   \n",
       "4                        Doe Hill    VA  38.4207  -79.4629  38.674999   \n",
       "...                           ...   ...      ...       ...        ...   \n",
       "1296670                     Hatch    UT  37.7175 -112.4777  36.841266   \n",
       "1296671                 Tuscarora    MD  39.2667  -77.5101  38.906881   \n",
       "1296672  High Rolls Mountain Park    NM  32.9396 -105.8189  33.619513   \n",
       "1296673                 Manderson    SD  43.3526 -102.5411  42.788940   \n",
       "1296674                      Sula    MT  45.8433 -113.8748  46.565983   \n",
       "\n",
       "         merch_long  is_fraud  \n",
       "0        -82.048315         0  \n",
       "1       -118.186462         0  \n",
       "2       -112.154481         0  \n",
       "3       -112.561071         0  \n",
       "4        -78.632459         0  \n",
       "...             ...       ...  \n",
       "1296670 -111.690765         0  \n",
       "1296671  -78.246528         0  \n",
       "1296672 -105.130529         0  \n",
       "1296673 -103.241160         0  \n",
       "1296674 -114.186110         0  \n",
       "\n",
       "[1296675 rows x 11 columns]"
      ]
     },
     "execution_count": 42,
     "metadata": {},
     "output_type": "execute_result"
    }
   ],
   "source": [
    "# Dropping few more columns\n",
    "X= df.drop(columns=['cc_num', 'zip', 'trans_date_trans_time', 'month_year'])\n",
    "X "
   ]
  },
  {
   "cell_type": "code",
   "execution_count": 43,
   "id": "7bf3acb4-09ff-4605-a75f-cff8cc5adb48",
   "metadata": {},
   "outputs": [
    {
     "data": {
      "text/plain": [
       "(1296675, 11)"
      ]
     },
     "execution_count": 43,
     "metadata": {},
     "output_type": "execute_result"
    }
   ],
   "source": [
    "X.shape"
   ]
  },
  {
   "cell_type": "code",
   "execution_count": 44,
   "id": "60a64222-f8a0-4521-8cf9-e9b80bb27a3c",
   "metadata": {},
   "outputs": [],
   "source": [
    "X = pd.get_dummies(X, columns=['merchant', 'category', 'gender', 'city', 'state'], dtype=int)"
   ]
  },
  {
   "cell_type": "code",
   "execution_count": 45,
   "id": "38b0b319-0cf9-426b-94c0-3e58de38d7f6",
   "metadata": {},
   "outputs": [
    {
     "data": {
      "text/plain": [
       "(1296675, 1660)"
      ]
     },
     "execution_count": 45,
     "metadata": {},
     "output_type": "execute_result"
    }
   ],
   "source": [
    "X.shape"
   ]
  },
  {
   "cell_type": "code",
   "execution_count": 46,
   "id": "73742360-4197-411b-9fcf-87145a0a5b60",
   "metadata": {},
   "outputs": [],
   "source": [
    "y_train = X['is_fraud']\n",
    "X_train = X.drop('is_fraud', axis=1)"
   ]
  },
  {
   "cell_type": "code",
   "execution_count": 47,
   "id": "edcbaf98-3c26-4fb0-964b-dabcb55fb493",
   "metadata": {},
   "outputs": [
    {
     "name": "stdout",
     "output_type": "stream",
     "text": [
      "(1296675, 1659)\n",
      "(1296675,)\n"
     ]
    }
   ],
   "source": [
    "print(X_train.shape)\n",
    "print(y_train.shape)"
   ]
  },
  {
   "cell_type": "markdown",
   "id": "ff78fdea-3789-45fa-b381-fc7911f8994a",
   "metadata": {},
   "source": [
    "# Load and clean the test data"
   ]
  },
  {
   "cell_type": "code",
   "execution_count": 48,
   "id": "487ad569-3f83-4ecf-a50b-fdc1fe501ac0",
   "metadata": {},
   "outputs": [],
   "source": [
    "df_test = load_data(\"fraudTest.csv\")"
   ]
  },
  {
   "cell_type": "code",
   "execution_count": 49,
   "id": "f13d4563-2469-4a5d-aa84-26ccf32f66e4",
   "metadata": {},
   "outputs": [
    {
     "data": {
      "text/plain": [
       "(555719, 23)"
      ]
     },
     "execution_count": 49,
     "metadata": {},
     "output_type": "execute_result"
    }
   ],
   "source": [
    "df_test.shape"
   ]
  },
  {
   "cell_type": "code",
   "execution_count": 50,
   "id": "044adc79-f612-45d5-bbc2-9bd8bcd14a5f",
   "metadata": {},
   "outputs": [],
   "source": [
    "df_test.drop(columns=['Unnamed: 0', 'first', 'last', 'job', 'dob', 'trans_num', 'city_pop', 'unix_time', 'street'], axis=1, inplace=True)\n",
    "df_test.drop(columns=['cc_num', 'zip', 'trans_date_trans_time'], inplace=True)"
   ]
  },
  {
   "cell_type": "code",
   "execution_count": 51,
   "id": "c034799e-c26f-4231-8b0c-1bccf1a19d5b",
   "metadata": {},
   "outputs": [
    {
     "data": {
      "text/plain": [
       "(555719, 11)"
      ]
     },
     "execution_count": 51,
     "metadata": {},
     "output_type": "execute_result"
    }
   ],
   "source": [
    "df_test.shape"
   ]
  },
  {
   "cell_type": "code",
   "execution_count": 57,
   "id": "1c60ac5a-0aed-494e-99f9-8b9c919ec68d",
   "metadata": {},
   "outputs": [
    {
     "data": {
      "text/plain": [
       "(555719, 11)"
      ]
     },
     "execution_count": 57,
     "metadata": {},
     "output_type": "execute_result"
    }
   ],
   "source": [
    "df_test.shape"
   ]
  },
  {
   "cell_type": "code",
   "execution_count": 58,
   "id": "c2a882dc-2251-4cce-84e2-2389a6e4238c",
   "metadata": {},
   "outputs": [],
   "source": [
    "X_test = df_test.drop('is_fraud', axis=1)\n",
    "y_test = df_test['is_fraud']"
   ]
  },
  {
   "cell_type": "code",
   "execution_count": 56,
   "id": "436555ec-8171-4782-bc66-0d38b997a39e",
   "metadata": {},
   "outputs": [
    {
     "name": "stdout",
     "output_type": "stream",
     "text": [
      "(555719,)\n",
      "(555719, 10)\n"
     ]
    }
   ],
   "source": [
    "print(y_test.shape)\n",
    "print(X_test.shape)"
   ]
  },
  {
   "cell_type": "code",
   "execution_count": 59,
   "id": "2adb9553-3e7a-4c2b-afea-710f1fa6ea98",
   "metadata": {},
   "outputs": [
    {
     "name": "stdout",
     "output_type": "stream",
     "text": [
      "X_train columns: Index(['amt', 'lat', 'long', 'merch_lat', 'merch_long',\n",
      "       'merchant_fraud_Abbott-Rogahn', 'merchant_fraud_Abbott-Steuber',\n",
      "       'merchant_fraud_Abernathy and Sons', 'merchant_fraud_Abshire PLC',\n",
      "       'merchant_fraud_Adams, Kovacek and Kuhlman',\n",
      "       ...\n",
      "       'state_SD', 'state_TN', 'state_TX', 'state_UT', 'state_VA', 'state_VT',\n",
      "       'state_WA', 'state_WI', 'state_WV', 'state_WY'],\n",
      "      dtype='object', length=1659)\n",
      "X_test columns: Index(['merchant', 'category', 'amt', 'gender', 'city', 'state', 'lat', 'long',\n",
      "       'merch_lat', 'merch_long'],\n",
      "      dtype='object')\n"
     ]
    }
   ],
   "source": [
    "# Check feature order consistency in train and test data\n",
    "print(\"X_train columns:\", X_train.columns)\n",
    "print(\"X_test columns:\", X_test.columns)"
   ]
  },
  {
   "cell_type": "code",
   "execution_count": 60,
   "id": "fae2ed58-2989-40a9-b9fb-2f3e554e8486",
   "metadata": {},
   "outputs": [
    {
     "name": "stdout",
     "output_type": "stream",
     "text": [
      "(1296675, 5)\n",
      "(555719, 5)\n"
     ]
    }
   ],
   "source": [
    "# Align the features with the train data\n",
    "common_columns = X_train.columns.intersection(X_test.columns)\n",
    "X_test_aligned = X_test[common_columns]\n",
    "X_train_aligned = X_train[common_columns]\n",
    "print(X_train_aligned.shape)\n",
    "print(X_test_aligned.shape)"
   ]
  },
  {
   "cell_type": "markdown",
   "id": "ae1fbaf7-6f09-4418-86c6-dfb62550d08c",
   "metadata": {},
   "source": [
    "# Decision Tree Model "
   ]
  },
  {
   "cell_type": "code",
   "execution_count": 61,
   "id": "0b5fa93c-b0ec-4316-a48d-b757a1055f9f",
   "metadata": {},
   "outputs": [],
   "source": [
    "dt_model = DecisionTreeClassifier()"
   ]
  },
  {
   "cell_type": "code",
   "execution_count": 62,
   "id": "5143fb9d-db2d-4249-a02d-a656dc7e2760",
   "metadata": {},
   "outputs": [
    {
     "data": {
      "text/html": [
       "<style>#sk-container-id-1 {color: black;background-color: white;}#sk-container-id-1 pre{padding: 0;}#sk-container-id-1 div.sk-toggleable {background-color: white;}#sk-container-id-1 label.sk-toggleable__label {cursor: pointer;display: block;width: 100%;margin-bottom: 0;padding: 0.3em;box-sizing: border-box;text-align: center;}#sk-container-id-1 label.sk-toggleable__label-arrow:before {content: \"▸\";float: left;margin-right: 0.25em;color: #696969;}#sk-container-id-1 label.sk-toggleable__label-arrow:hover:before {color: black;}#sk-container-id-1 div.sk-estimator:hover label.sk-toggleable__label-arrow:before {color: black;}#sk-container-id-1 div.sk-toggleable__content {max-height: 0;max-width: 0;overflow: hidden;text-align: left;background-color: #f0f8ff;}#sk-container-id-1 div.sk-toggleable__content pre {margin: 0.2em;color: black;border-radius: 0.25em;background-color: #f0f8ff;}#sk-container-id-1 input.sk-toggleable__control:checked~div.sk-toggleable__content {max-height: 200px;max-width: 100%;overflow: auto;}#sk-container-id-1 input.sk-toggleable__control:checked~label.sk-toggleable__label-arrow:before {content: \"▾\";}#sk-container-id-1 div.sk-estimator input.sk-toggleable__control:checked~label.sk-toggleable__label {background-color: #d4ebff;}#sk-container-id-1 div.sk-label input.sk-toggleable__control:checked~label.sk-toggleable__label {background-color: #d4ebff;}#sk-container-id-1 input.sk-hidden--visually {border: 0;clip: rect(1px 1px 1px 1px);clip: rect(1px, 1px, 1px, 1px);height: 1px;margin: -1px;overflow: hidden;padding: 0;position: absolute;width: 1px;}#sk-container-id-1 div.sk-estimator {font-family: monospace;background-color: #f0f8ff;border: 1px dotted black;border-radius: 0.25em;box-sizing: border-box;margin-bottom: 0.5em;}#sk-container-id-1 div.sk-estimator:hover {background-color: #d4ebff;}#sk-container-id-1 div.sk-parallel-item::after {content: \"\";width: 100%;border-bottom: 1px solid gray;flex-grow: 1;}#sk-container-id-1 div.sk-label:hover label.sk-toggleable__label {background-color: #d4ebff;}#sk-container-id-1 div.sk-serial::before {content: \"\";position: absolute;border-left: 1px solid gray;box-sizing: border-box;top: 0;bottom: 0;left: 50%;z-index: 0;}#sk-container-id-1 div.sk-serial {display: flex;flex-direction: column;align-items: center;background-color: white;padding-right: 0.2em;padding-left: 0.2em;position: relative;}#sk-container-id-1 div.sk-item {position: relative;z-index: 1;}#sk-container-id-1 div.sk-parallel {display: flex;align-items: stretch;justify-content: center;background-color: white;position: relative;}#sk-container-id-1 div.sk-item::before, #sk-container-id-1 div.sk-parallel-item::before {content: \"\";position: absolute;border-left: 1px solid gray;box-sizing: border-box;top: 0;bottom: 0;left: 50%;z-index: -1;}#sk-container-id-1 div.sk-parallel-item {display: flex;flex-direction: column;z-index: 1;position: relative;background-color: white;}#sk-container-id-1 div.sk-parallel-item:first-child::after {align-self: flex-end;width: 50%;}#sk-container-id-1 div.sk-parallel-item:last-child::after {align-self: flex-start;width: 50%;}#sk-container-id-1 div.sk-parallel-item:only-child::after {width: 0;}#sk-container-id-1 div.sk-dashed-wrapped {border: 1px dashed gray;margin: 0 0.4em 0.5em 0.4em;box-sizing: border-box;padding-bottom: 0.4em;background-color: white;}#sk-container-id-1 div.sk-label label {font-family: monospace;font-weight: bold;display: inline-block;line-height: 1.2em;}#sk-container-id-1 div.sk-label-container {text-align: center;}#sk-container-id-1 div.sk-container {/* jupyter's `normalize.less` sets `[hidden] { display: none; }` but bootstrap.min.css set `[hidden] { display: none !important; }` so we also need the `!important` here to be able to override the default hidden behavior on the sphinx rendered scikit-learn.org. See: https://github.com/scikit-learn/scikit-learn/issues/21755 */display: inline-block !important;position: relative;}#sk-container-id-1 div.sk-text-repr-fallback {display: none;}</style><div id=\"sk-container-id-1\" class=\"sk-top-container\"><div class=\"sk-text-repr-fallback\"><pre>DecisionTreeClassifier()</pre><b>In a Jupyter environment, please rerun this cell to show the HTML representation or trust the notebook. <br />On GitHub, the HTML representation is unable to render, please try loading this page with nbviewer.org.</b></div><div class=\"sk-container\" hidden><div class=\"sk-item\"><div class=\"sk-estimator sk-toggleable\"><input class=\"sk-toggleable__control sk-hidden--visually\" id=\"sk-estimator-id-1\" type=\"checkbox\" checked><label for=\"sk-estimator-id-1\" class=\"sk-toggleable__label sk-toggleable__label-arrow\">DecisionTreeClassifier</label><div class=\"sk-toggleable__content\"><pre>DecisionTreeClassifier()</pre></div></div></div></div></div>"
      ],
      "text/plain": [
       "DecisionTreeClassifier()"
      ]
     },
     "execution_count": 62,
     "metadata": {},
     "output_type": "execute_result"
    }
   ],
   "source": [
    "dt_model.fit(X_train_aligned,y_train)"
   ]
  },
  {
   "cell_type": "markdown",
   "id": "cfae5782-031f-472c-8558-0435158c4716",
   "metadata": {},
   "source": [
    "# Prediction"
   ]
  },
  {
   "cell_type": "code",
   "execution_count": 63,
   "id": "811f012a-8cf5-4724-9893-3658e5c6d17c",
   "metadata": {},
   "outputs": [],
   "source": [
    "y_pred=dt_model.predict(X_test_aligned)"
   ]
  },
  {
   "cell_type": "code",
   "execution_count": 64,
   "id": "8f9426aa-b9a8-4982-9554-933d033c84ae",
   "metadata": {},
   "outputs": [
    {
     "name": "stdout",
     "output_type": "stream",
     "text": [
      "Accuracy score : 99.30%\n"
     ]
    }
   ],
   "source": [
    "# Accuracy Score\n",
    "accuracy = accuracy_score(y_test,y_pred)\n",
    "print(f\"Accuracy score : {accuracy*100:.2f}%\")"
   ]
  },
  {
   "cell_type": "code",
   "execution_count": 65,
   "id": "365a28f4-2235-4077-9c97-b6517cea87a2",
   "metadata": {},
   "outputs": [
    {
     "name": "stdout",
     "output_type": "stream",
     "text": [
      "              precision    recall  f1-score   support\n",
      "\n",
      "           1       0.18      0.22      0.20      2145\n",
      "           0       1.00      1.00      1.00    553574\n",
      "\n",
      "    accuracy                           0.99    555719\n",
      "   macro avg       0.59      0.61      0.60    555719\n",
      "weighted avg       0.99      0.99      0.99    555719\n",
      "\n"
     ]
    }
   ],
   "source": [
    "# Class report\n",
    "class_rep =classification_report(y_test,y_pred,labels=[1,0])\n",
    "print(class_rep)"
   ]
  },
  {
   "cell_type": "markdown",
   "id": "99db0876-09aa-4c7c-91f6-5c4c9ca44c74",
   "metadata": {},
   "source": [
    "## Conclusion"
   ]
  },
  {
   "cell_type": "markdown",
   "id": "caf65c2a-016b-4a0a-92be-458cd953f7bd",
   "metadata": {},
   "source": [
    "### Thus, the model can predict whether the given sms is spam or not with accuracy of 99.30%"
   ]
  }
 ],
 "metadata": {
  "kernelspec": {
   "display_name": "Python 3 (ipykernel)",
   "language": "python",
   "name": "python3"
  },
  "language_info": {
   "codemirror_mode": {
    "name": "ipython",
    "version": 3
   },
   "file_extension": ".py",
   "mimetype": "text/x-python",
   "name": "python",
   "nbconvert_exporter": "python",
   "pygments_lexer": "ipython3",
   "version": "3.11.7"
  }
 },
 "nbformat": 4,
 "nbformat_minor": 5
}
